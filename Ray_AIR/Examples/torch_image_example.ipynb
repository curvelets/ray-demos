{
 "cells": [
  {
   "cell_type": "code",
   "execution_count": 1,
   "id": "d79f1bd7",
   "metadata": {
    "scrolled": true
   },
   "outputs": [
    {
     "name": "stdout",
     "output_type": "stream",
     "text": [
      "Requirement already satisfied: ray[air] in /home/ray/anaconda3/lib/python3.9/site-packages (2.2.0)\n",
      "Requirement already satisfied: pyyaml in /home/ray/anaconda3/lib/python3.9/site-packages (from ray[air]) (5.4.1)\n",
      "Requirement already satisfied: requests in /home/ray/anaconda3/lib/python3.9/site-packages (from ray[air]) (2.27.1)\n",
      "Requirement already satisfied: aiosignal in /home/ray/anaconda3/lib/python3.9/site-packages (from ray[air]) (1.3.1)\n",
      "Requirement already satisfied: jsonschema in /home/ray/anaconda3/lib/python3.9/site-packages (from ray[air]) (4.17.3)\n",
      "Requirement already satisfied: filelock in /home/ray/anaconda3/lib/python3.9/site-packages (from ray[air]) (3.8.2)\n",
      "Requirement already satisfied: click>=7.0 in /home/ray/anaconda3/lib/python3.9/site-packages (from ray[air]) (8.1.3)\n",
      "Requirement already satisfied: msgpack<2.0.0,>=1.0.0 in /home/ray/anaconda3/lib/python3.9/site-packages (from ray[air]) (1.0.4)\n",
      "Requirement already satisfied: protobuf!=3.19.5,>=3.15.3 in /home/ray/anaconda3/lib/python3.9/site-packages (from ray[air]) (3.19.6)\n",
      "Requirement already satisfied: grpcio>=1.32.0 in /home/ray/anaconda3/lib/python3.9/site-packages (from ray[air]) (1.51.1)\n",
      "Requirement already satisfied: numpy>=1.19.3 in /home/ray/anaconda3/lib/python3.9/site-packages (from ray[air]) (1.23.5)\n",
      "Requirement already satisfied: virtualenv>=20.0.24 in /home/ray/anaconda3/lib/python3.9/site-packages (from ray[air]) (20.17.1)\n",
      "Requirement already satisfied: attrs in /home/ray/anaconda3/lib/python3.9/site-packages (from ray[air]) (22.1.0)\n",
      "Requirement already satisfied: frozenlist in /home/ray/anaconda3/lib/python3.9/site-packages (from ray[air]) (1.3.3)\n",
      "Requirement already satisfied: fastapi in /home/ray/anaconda3/lib/python3.9/site-packages (from ray[air]) (0.88.0)\n",
      "Requirement already satisfied: fsspec in /home/ray/anaconda3/lib/python3.9/site-packages (from ray[air]) (2022.11.0)\n",
      "Requirement already satisfied: tensorboardX>=1.9 in /home/ray/anaconda3/lib/python3.9/site-packages (from ray[air]) (2.5.1)\n",
      "Requirement already satisfied: pyarrow<8.0.0,>=6.0.1 in /home/ray/anaconda3/lib/python3.9/site-packages (from ray[air]) (7.0.0)\n",
      "Requirement already satisfied: pydantic in /home/ray/anaconda3/lib/python3.9/site-packages (from ray[air]) (1.10.2)\n",
      "Requirement already satisfied: aiohttp>=3.7 in /home/ray/anaconda3/lib/python3.9/site-packages (from ray[air]) (3.8.3)\n",
      "Requirement already satisfied: colorful in /home/ray/anaconda3/lib/python3.9/site-packages (from ray[air]) (0.5.5)\n",
      "Requirement already satisfied: py-spy>=0.2.0 in /home/ray/anaconda3/lib/python3.9/site-packages (from ray[air]) (0.3.14)\n",
      "Requirement already satisfied: smart-open in /home/ray/anaconda3/lib/python3.9/site-packages (from ray[air]) (6.2.0)\n",
      "Requirement already satisfied: pandas>=1.3 in /home/ray/anaconda3/lib/python3.9/site-packages (from ray[air]) (1.5.2)\n",
      "Requirement already satisfied: uvicorn in /home/ray/anaconda3/lib/python3.9/site-packages (from ray[air]) (0.20.0)\n",
      "Requirement already satisfied: opencensus in /home/ray/anaconda3/lib/python3.9/site-packages (from ray[air]) (0.11.0)\n",
      "Requirement already satisfied: tabulate in /home/ray/anaconda3/lib/python3.9/site-packages (from ray[air]) (0.9.0)\n",
      "Requirement already satisfied: aiohttp-cors in /home/ray/anaconda3/lib/python3.9/site-packages (from ray[air]) (0.7.0)\n",
      "Requirement already satisfied: prometheus-client<0.14.0,>=0.7.1 in /home/ray/anaconda3/lib/python3.9/site-packages (from ray[air]) (0.13.1)\n",
      "Requirement already satisfied: gpustat>=1.0.0 in /home/ray/anaconda3/lib/python3.9/site-packages (from ray[air]) (1.0.0)\n",
      "Requirement already satisfied: starlette in /home/ray/anaconda3/lib/python3.9/site-packages (from ray[air]) (0.22.0)\n",
      "Requirement already satisfied: aiorwlock in /home/ray/anaconda3/lib/python3.9/site-packages (from ray[air]) (1.3.0)\n",
      "Requirement already satisfied: async-timeout<5.0,>=4.0.0a3 in /home/ray/anaconda3/lib/python3.9/site-packages (from aiohttp>=3.7->ray[air]) (4.0.2)\n",
      "Requirement already satisfied: multidict<7.0,>=4.5 in /home/ray/anaconda3/lib/python3.9/site-packages (from aiohttp>=3.7->ray[air]) (6.0.3)\n",
      "Requirement already satisfied: yarl<2.0,>=1.0 in /home/ray/anaconda3/lib/python3.9/site-packages (from aiohttp>=3.7->ray[air]) (1.8.2)\n",
      "Requirement already satisfied: charset-normalizer<3.0,>=2.0 in /home/ray/anaconda3/lib/python3.9/site-packages (from aiohttp>=3.7->ray[air]) (2.0.4)\n",
      "Requirement already satisfied: psutil>=5.6.0 in /home/ray/anaconda3/lib/python3.9/site-packages (from gpustat>=1.0.0->ray[air]) (5.9.4)\n",
      "Requirement already satisfied: six>=1.7 in /home/ray/anaconda3/lib/python3.9/site-packages (from gpustat>=1.0.0->ray[air]) (1.13.0)\n",
      "Requirement already satisfied: blessed>=1.17.1 in /home/ray/anaconda3/lib/python3.9/site-packages (from gpustat>=1.0.0->ray[air]) (1.19.1)\n",
      "Requirement already satisfied: nvidia-ml-py<=11.495.46,>=11.450.129 in /home/ray/anaconda3/lib/python3.9/site-packages (from gpustat>=1.0.0->ray[air]) (11.495.46)\n",
      "Requirement already satisfied: wcwidth>=0.1.4 in /home/ray/anaconda3/lib/python3.9/site-packages (from blessed>=1.17.1->gpustat>=1.0.0->ray[air]) (0.2.5)\n",
      "Requirement already satisfied: pytz>=2020.1 in /home/ray/anaconda3/lib/python3.9/site-packages (from pandas>=1.3->ray[air]) (2022.6)\n",
      "Requirement already satisfied: python-dateutil>=2.8.1 in /home/ray/anaconda3/lib/python3.9/site-packages (from pandas>=1.3->ray[air]) (2.8.2)\n",
      "Requirement already satisfied: platformdirs<3,>=2.4 in /home/ray/anaconda3/lib/python3.9/site-packages (from virtualenv>=20.0.24->ray[air]) (2.6.0)\n",
      "Requirement already satisfied: distlib<1,>=0.3.6 in /home/ray/anaconda3/lib/python3.9/site-packages (from virtualenv>=20.0.24->ray[air]) (0.3.6)\n",
      "Requirement already satisfied: idna>=2.0 in /home/ray/anaconda3/lib/python3.9/site-packages (from yarl<2.0,>=1.0->aiohttp>=3.7->ray[air]) (3.3)\n",
      "Requirement already satisfied: anyio<5,>=3.4.0 in /home/ray/anaconda3/lib/python3.9/site-packages (from starlette->ray[air]) (3.6.2)\n",
      "Requirement already satisfied: typing-extensions>=3.10.0 in /home/ray/anaconda3/lib/python3.9/site-packages (from starlette->ray[air]) (4.4.0)\n",
      "Requirement already satisfied: sniffio>=1.1 in /home/ray/anaconda3/lib/python3.9/site-packages (from anyio<5,>=3.4.0->starlette->ray[air]) (1.3.0)\n",
      "Requirement already satisfied: pyrsistent!=0.17.0,!=0.17.1,!=0.17.2,>=0.14.0 in /home/ray/anaconda3/lib/python3.9/site-packages (from jsonschema->ray[air]) (0.19.2)\n",
      "Requirement already satisfied: google-api-core<3.0.0,>=1.0.0 in /home/ray/anaconda3/lib/python3.9/site-packages (from opencensus->ray[air]) (2.11.0)\n",
      "Requirement already satisfied: opencensus-context>=0.1.3 in /home/ray/anaconda3/lib/python3.9/site-packages (from opencensus->ray[air]) (0.1.3)\n",
      "Requirement already satisfied: google-auth<3.0dev,>=2.14.1 in /home/ray/anaconda3/lib/python3.9/site-packages (from google-api-core<3.0.0,>=1.0.0->opencensus->ray[air]) (2.15.0)\n",
      "Requirement already satisfied: googleapis-common-protos<2.0dev,>=1.56.2 in /home/ray/anaconda3/lib/python3.9/site-packages (from google-api-core<3.0.0,>=1.0.0->opencensus->ray[air]) (1.57.0)\n",
      "Requirement already satisfied: cachetools<6.0,>=2.0.0 in /home/ray/anaconda3/lib/python3.9/site-packages (from google-auth<3.0dev,>=2.14.1->google-api-core<3.0.0,>=1.0.0->opencensus->ray[air]) (5.2.0)\n",
      "Requirement already satisfied: pyasn1-modules>=0.2.1 in /home/ray/anaconda3/lib/python3.9/site-packages (from google-auth<3.0dev,>=2.14.1->google-api-core<3.0.0,>=1.0.0->opencensus->ray[air]) (0.2.8)\n",
      "Requirement already satisfied: rsa<5,>=3.1.4 in /home/ray/anaconda3/lib/python3.9/site-packages (from google-auth<3.0dev,>=2.14.1->google-api-core<3.0.0,>=1.0.0->opencensus->ray[air]) (4.7.2)\n",
      "Requirement already satisfied: pyasn1<0.5.0,>=0.4.6 in /home/ray/anaconda3/lib/python3.9/site-packages (from pyasn1-modules>=0.2.1->google-auth<3.0dev,>=2.14.1->google-api-core<3.0.0,>=1.0.0->opencensus->ray[air]) (0.4.8)\n",
      "Requirement already satisfied: urllib3<1.27,>=1.21.1 in /home/ray/anaconda3/lib/python3.9/site-packages (from requests->ray[air]) (1.26.13)\n",
      "Requirement already satisfied: certifi>=2017.4.17 in /home/ray/anaconda3/lib/python3.9/site-packages (from requests->ray[air]) (2022.9.24)\n",
      "Requirement already satisfied: h11>=0.8 in /home/ray/anaconda3/lib/python3.9/site-packages (from uvicorn->ray[air]) (0.14.0)\n"
     ]
    }
   ],
   "source": [
    "!pip install 'ray[air]'"
   ]
  },
  {
   "cell_type": "code",
   "execution_count": 11,
   "id": "07298aef",
   "metadata": {},
   "outputs": [
    {
     "name": "stdout",
     "output_type": "stream",
     "text": [
      "Requirement already satisfied: requests in /efs/workspaces/expwrk_7fjy13ptykw89s9zvq3wfwcj/cluster_storage/pypi/lib/python3.9/site-packages (2.28.1)\n",
      "Requirement already satisfied: torch in /efs/workspaces/expwrk_7fjy13ptykw89s9zvq3wfwcj/cluster_storage/pypi/lib/python3.9/site-packages (1.13.0)\n",
      "Requirement already satisfied: torchvision in /efs/workspaces/expwrk_7fjy13ptykw89s9zvq3wfwcj/cluster_storage/pypi/lib/python3.9/site-packages (0.14.0)\n",
      "Requirement already satisfied: idna<4,>=2.5 in /home/ray/anaconda3/lib/python3.9/site-packages (from requests) (3.3)\n",
      "Requirement already satisfied: certifi>=2017.4.17 in /home/ray/anaconda3/lib/python3.9/site-packages (from requests) (2022.9.24)\n",
      "Requirement already satisfied: urllib3<1.27,>=1.21.1 in /home/ray/anaconda3/lib/python3.9/site-packages (from requests) (1.26.13)\n",
      "Requirement already satisfied: charset-normalizer<3,>=2 in /home/ray/anaconda3/lib/python3.9/site-packages (from requests) (2.0.4)\n",
      "Requirement already satisfied: nvidia-cudnn-cu11==8.5.0.96 in /home/ray/anaconda3/lib/python3.9/site-packages (from torch) (8.5.0.96)\n",
      "Requirement already satisfied: nvidia-cublas-cu11==11.10.3.66 in /home/ray/anaconda3/lib/python3.9/site-packages (from torch) (11.10.3.66)\n",
      "Requirement already satisfied: nvidia-cuda-nvrtc-cu11==11.7.99 in /home/ray/anaconda3/lib/python3.9/site-packages (from torch) (11.7.99)\n",
      "Requirement already satisfied: typing-extensions in /home/ray/anaconda3/lib/python3.9/site-packages (from torch) (4.4.0)\n",
      "Requirement already satisfied: nvidia-cuda-runtime-cu11==11.7.99 in /home/ray/anaconda3/lib/python3.9/site-packages (from torch) (11.7.99)\n",
      "Requirement already satisfied: setuptools in /home/ray/anaconda3/lib/python3.9/site-packages (from nvidia-cublas-cu11==11.10.3.66->torch) (61.2.0)\n",
      "Requirement already satisfied: wheel in /home/ray/anaconda3/lib/python3.9/site-packages (from nvidia-cublas-cu11==11.10.3.66->torch) (0.37.1)\n",
      "Requirement already satisfied: pillow!=8.3.*,>=5.3.0 in /home/ray/anaconda3/lib/python3.9/site-packages (from torchvision) (9.3.0)\n",
      "Requirement already satisfied: numpy in /home/ray/anaconda3/lib/python3.9/site-packages (from torchvision) (1.23.5)\n"
     ]
    }
   ],
   "source": [
    "!pip install --user requests torch torchvision"
   ]
  },
  {
   "cell_type": "code",
   "execution_count": 1,
   "id": "64eaa5a9",
   "metadata": {},
   "outputs": [
    {
     "name": "stderr",
     "output_type": "stream",
     "text": [
      "/home/ray/anaconda3/lib/python3.9/site-packages/tqdm/auto.py:22: TqdmWarning: IProgress not found. Please update jupyter and ipywidgets. See https://ipywidgets.readthedocs.io/en/stable/user_install.html\n",
      "  from .autonotebook import tqdm as notebook_tqdm\n"
     ]
    },
    {
     "name": "stdout",
     "output_type": "stream",
     "text": [
      "Files already downloaded and verified\n",
      "Files already downloaded and verified\n"
     ]
    },
    {
     "name": "stderr",
     "output_type": "stream",
     "text": [
      "2022-12-14 10:52:10,816\tINFO worker.py:1230 -- Using address localhost:9031 set in the environment variable RAY_ADDRESS\n",
      "2022-12-14 10:52:12,528\tINFO worker.py:1352 -- Connecting to existing Ray cluster at address: 10.0.41.53:9031...\n",
      "2022-12-14 10:52:12,563\tINFO worker.py:1529 -- Connected to Ray cluster. View the dashboard at \u001b[1m\u001b[32mhttps://console.anyscale.com/api/v2/sessions/ses_buwxbm99nq8dryqg6p8sbytw/services?redirect_to=dashboard \u001b[39m\u001b[22m\n",
      "2022-12-14 10:52:13,571\tINFO packaging.py:373 -- Pushing file package 'gcs://_ray_pkg_035607a1cd206d802d656e8f005fadfc.zip' (340.87MiB) to Ray cluster...\n",
      "2022-12-14 10:52:19,296\tINFO packaging.py:386 -- Successfully pushed file package 'gcs://_ray_pkg_035607a1cd206d802d656e8f005fadfc.zip'.\n"
     ]
    }
   ],
   "source": [
    "import ray\n",
    "import torchvision\n",
    "import torchvision.transforms as transforms\n",
    "\n",
    "transform = transforms.Compose(\n",
    "    [transforms.ToTensor(), transforms.Normalize((0.5, 0.5, 0.5), (0.5, 0.5, 0.5))]\n",
    ")\n",
    "\n",
    "train_dataset = torchvision.datasets.CIFAR10(\"data\", download=True, train=True, transform=transform)\n",
    "test_dataset = torchvision.datasets.CIFAR10(\"data\", download=True, train=False, transform=transform)\n",
    "\n",
    "train_dataset: ray.data.Dataset = ray.data.from_torch(train_dataset)\n",
    "test_dataset: ray.data.Dataset = ray.data.from_torch(test_dataset)"
   ]
  },
  {
   "cell_type": "code",
   "execution_count": 2,
   "id": "52054462",
   "metadata": {},
   "outputs": [
    {
     "name": "stderr",
     "output_type": "stream",
     "text": [
      "2022-12-14 10:52:27,424\tWARNING formatters.py:920 -- Missing packages: ['ipywidgets']. Run `pip install ipywidgets` for rich notebook output.\n"
     ]
    }
   ],
   "source": [
    "train_dataset"
   ]
  },
  {
   "cell_type": "code",
   "execution_count": 3,
   "id": "d292d826",
   "metadata": {},
   "outputs": [
    {
     "name": "stderr",
     "output_type": "stream",
     "text": [
      "Map_Batches: 100%|██████████| 200/200 [00:07<00:00, 25.87it/s] \n",
      "Map_Batches: 100%|██████████| 200/200 [00:00<00:00, 221.77it/s]\n"
     ]
    }
   ],
   "source": [
    "from typing import Dict, Tuple\n",
    "import numpy as np\n",
    "import torch\n",
    "\n",
    "\n",
    "def convert_batch_to_numpy(batch: Tuple[torch.Tensor, int]) -> Dict[str, np.ndarray]:\n",
    "    images = np.array([image.numpy() for image, _ in batch])\n",
    "    labels = np.array([label for _, label in batch])\n",
    "    return {\"image\": images, \"label\": labels}\n",
    "\n",
    "\n",
    "train_dataset = train_dataset.map_batches(convert_batch_to_numpy)\n",
    "test_dataset = test_dataset.map_batches(convert_batch_to_numpy)"
   ]
  },
  {
   "cell_type": "markdown",
   "id": "55ea1ef9",
   "metadata": {},
   "source": [
    "# Train CNN"
   ]
  },
  {
   "cell_type": "code",
   "execution_count": 4,
   "id": "ab636173",
   "metadata": {},
   "outputs": [],
   "source": [
    "import torch\n",
    "import torch.nn as nn\n",
    "import torch.nn.functional as F\n",
    "\n",
    "\n",
    "class Net(nn.Module):\n",
    "    def __init__(self):\n",
    "        super().__init__()\n",
    "        self.conv1 = nn.Conv2d(3, 6, 5)\n",
    "        self.pool = nn.MaxPool2d(2, 2)\n",
    "        self.conv2 = nn.Conv2d(6, 16, 5)\n",
    "        self.fc1 = nn.Linear(16 * 5 * 5, 120)\n",
    "        self.fc2 = nn.Linear(120, 84)\n",
    "        self.fc3 = nn.Linear(84, 10)\n",
    "\n",
    "    def forward(self, x):\n",
    "        x = self.pool(F.relu(self.conv1(x)))\n",
    "        x = self.pool(F.relu(self.conv2(x)))\n",
    "        x = torch.flatten(x, 1)  # flatten all dimensions except batch\n",
    "        x = F.relu(self.fc1(x))\n",
    "        x = F.relu(self.fc2(x))\n",
    "        x = self.fc3(x)\n",
    "        return x"
   ]
  },
  {
   "cell_type": "code",
   "execution_count": 5,
   "id": "3a1331de",
   "metadata": {},
   "outputs": [],
   "source": [
    "from ray import train\n",
    "from ray.air import session, Checkpoint\n",
    "from ray.train.torch import TorchCheckpoint\n",
    "import torch.nn as nn\n",
    "import torch.optim as optim\n",
    "import torchvision\n",
    "\n",
    "\n",
    "def train_loop_per_worker(config):\n",
    "    model = train.torch.prepare_model(Net())\n",
    "\n",
    "    criterion = nn.CrossEntropyLoss()\n",
    "    optimizer = optim.SGD(model.parameters(), lr=0.001, momentum=0.9)\n",
    "\n",
    "    train_dataset_shard = session.get_dataset_shard(\"train\")\n",
    "\n",
    "    for epoch in range(2):\n",
    "        running_loss = 0.0\n",
    "        train_dataset_batches = train_dataset_shard.iter_torch_batches(\n",
    "            batch_size=config[\"batch_size\"],\n",
    "        )\n",
    "        for i, batch in enumerate(train_dataset_batches):\n",
    "            # get the inputs and labels\n",
    "            inputs, labels = batch[\"image\"], batch[\"label\"]\n",
    "\n",
    "            # zero the parameter gradients\n",
    "            optimizer.zero_grad()\n",
    "\n",
    "            # forward + backward + optimize\n",
    "            outputs = model(inputs)\n",
    "            loss = criterion(outputs, labels)\n",
    "            loss.backward()\n",
    "            optimizer.step()\n",
    "\n",
    "            # print statistics\n",
    "            running_loss += loss.item()\n",
    "            if i % 2000 == 1999:  # print every 2000 mini-batches\n",
    "                print(f\"[{epoch + 1}, {i + 1:5d}] loss: {running_loss / 2000:.3f}\")\n",
    "                running_loss = 0.0\n",
    "\n",
    "        metrics = dict(running_loss=running_loss)\n",
    "        checkpoint = TorchCheckpoint.from_state_dict(model.module.state_dict())\n",
    "        session.report(metrics, checkpoint=checkpoint)"
   ]
  },
  {
   "cell_type": "code",
   "execution_count": 6,
   "id": "e8911add",
   "metadata": {},
   "outputs": [
    {
     "data": {
      "text/html": [
       "<div class=\"tuneStatus\">\n",
       "  <div style=\"display: flex;flex-direction: row\">\n",
       "    <div style=\"display: flex;flex-direction: column;\">\n",
       "      <h3>Tune Status</h3>\n",
       "      <table>\n",
       "<tbody>\n",
       "<tr><td>Current time:</td><td>2022-12-14 10:54:09</td></tr>\n",
       "<tr><td>Running for: </td><td>00:01:33.04        </td></tr>\n",
       "<tr><td>Memory:      </td><td>6.9/30.9 GiB       </td></tr>\n",
       "</tbody>\n",
       "</table>\n",
       "    </div>\n",
       "    <div class=\"vDivider\"></div>\n",
       "    <div class=\"systemInfo\">\n",
       "      <h3>System Info</h3>\n",
       "      Using FIFO scheduling algorithm.<br>Resources requested: 0/88 CPUs, 0/0 GPUs, 0.0/240.93 GiB heap, 0.0/94.21 GiB objects\n",
       "    </div>\n",
       "    \n",
       "  </div>\n",
       "  <div class=\"hDivider\"></div>\n",
       "  <div class=\"trialStatus\">\n",
       "    <h3>Trial Status</h3>\n",
       "    <table>\n",
       "<thead>\n",
       "<tr><th>Trial name              </th><th>status    </th><th>loc            </th><th style=\"text-align: right;\">  iter</th><th style=\"text-align: right;\">  total time (s)</th><th style=\"text-align: right;\">  running_loss</th><th style=\"text-align: right;\">  _timestamp</th><th style=\"text-align: right;\">  _time_this_iter_s</th></tr>\n",
       "</thead>\n",
       "<tbody>\n",
       "<tr><td>TorchTrainer_79f63_00000</td><td>TERMINATED</td><td>10.0.41.53:4921</td><td style=\"text-align: right;\">     2</td><td style=\"text-align: right;\">         85.3643</td><td style=\"text-align: right;\">       629.552</td><td style=\"text-align: right;\">  1671044046</td><td style=\"text-align: right;\">            39.9331</td></tr>\n",
       "</tbody>\n",
       "</table>\n",
       "  </div>\n",
       "</div>\n",
       "<style>\n",
       ".tuneStatus {\n",
       "  color: var(--jp-ui-font-color1);\n",
       "}\n",
       ".tuneStatus .systemInfo {\n",
       "  display: flex;\n",
       "  flex-direction: column;\n",
       "}\n",
       ".tuneStatus td {\n",
       "  white-space: nowrap;\n",
       "}\n",
       ".tuneStatus .trialStatus {\n",
       "  display: flex;\n",
       "  flex-direction: column;\n",
       "}\n",
       ".tuneStatus h3 {\n",
       "  font-weight: bold;\n",
       "}\n",
       ".tuneStatus .hDivider {\n",
       "  border-bottom-width: var(--jp-border-width);\n",
       "  border-bottom-color: var(--jp-border-color0);\n",
       "  border-bottom-style: solid;\n",
       "}\n",
       ".tuneStatus .vDivider {\n",
       "  border-left-width: var(--jp-border-width);\n",
       "  border-left-color: var(--jp-border-color0);\n",
       "  border-left-style: solid;\n",
       "  margin: 0.5em 1em 0.5em 1em;\n",
       "}\n",
       "</style>\n"
      ],
      "text/plain": [
       "<IPython.core.display.HTML object>"
      ]
     },
     "metadata": {},
     "output_type": "display_data"
    },
    {
     "name": "stderr",
     "output_type": "stream",
     "text": [
      "(RayTrainWorker pid=4977) 2022-12-14 10:52:45,758\tINFO config.py:86 -- Setting up process group for: env:// [rank=0, world_size=2]\n",
      "(RayTrainWorker pid=4977) 2022-12-14 10:52:45,945\tINFO train_loop_utils.py:270 -- Moving model to device: cpu\n",
      "(RayTrainWorker pid=4977) 2022-12-14 10:52:45,950\tINFO train_loop_utils.py:330 -- Wrapping provided model in DistributedDataParallel.\n"
     ]
    },
    {
     "name": "stdout",
     "output_type": "stream",
     "text": [
      "(RayTrainWorker pid=4977) [1,  2000] loss: 2.232\n",
      "(RayTrainWorker pid=4978) [1,  2000] loss: 2.223\n",
      "(scheduler +1m8s) Tip: use `ray status` to view detailed cluster status. To disable these messages, set RAY_SCHEDULER_EVENTS=0.\n",
      "(scheduler +1m8s) Adding 5 node(s) of type worker-node-type-0.\n",
      "(RayTrainWorker pid=4977) [1,  4000] loss: 1.892\n",
      "(RayTrainWorker pid=4978) [1,  4000] loss: 1.910\n",
      "(RayTrainWorker pid=4977) [1,  6000] loss: 1.656\n",
      "(RayTrainWorker pid=4978) [1,  6000] loss: 1.691\n",
      "(RayTrainWorker pid=4977) [1,  8000] loss: 1.579\n",
      "(RayTrainWorker pid=4978) [1,  8000] loss: 1.549\n",
      "(RayTrainWorker pid=4977) [1, 10000] loss: 1.471\n",
      "(RayTrainWorker pid=4978) [1, 10000] loss: 1.517\n",
      "(RayTrainWorker pid=4977) [1, 12000] loss: 1.461\n",
      "(RayTrainWorker pid=4978) [1, 12000] loss: 1.461\n"
     ]
    },
    {
     "data": {
      "text/html": [
       "<div class=\"trialProgress\">\n",
       "  <h3>Trial Progress</h3>\n",
       "  <table>\n",
       "<thead>\n",
       "<tr><th>Trial name              </th><th style=\"text-align: right;\">  _time_this_iter_s</th><th style=\"text-align: right;\">  _timestamp</th><th style=\"text-align: right;\">  _training_iteration</th><th>date               </th><th>done  </th><th>episodes_total  </th><th>experiment_id                   </th><th style=\"text-align: right;\">  experiment_tag</th><th>hostname     </th><th style=\"text-align: right;\">  iterations_since_restore</th><th>node_ip   </th><th style=\"text-align: right;\">  pid</th><th style=\"text-align: right;\">  running_loss</th><th>should_checkpoint  </th><th style=\"text-align: right;\">  time_since_restore</th><th style=\"text-align: right;\">  time_this_iter_s</th><th style=\"text-align: right;\">  time_total_s</th><th style=\"text-align: right;\">  timestamp</th><th style=\"text-align: right;\">  timesteps_since_restore</th><th>timesteps_total  </th><th style=\"text-align: right;\">  training_iteration</th><th>trial_id   </th><th style=\"text-align: right;\">  warmup_time</th></tr>\n",
       "</thead>\n",
       "<tbody>\n",
       "<tr><td>TorchTrainer_79f63_00000</td><td style=\"text-align: right;\">            39.9331</td><td style=\"text-align: right;\">  1671044046</td><td style=\"text-align: right;\">                    2</td><td>2022-12-14_10-54-07</td><td>True  </td><td>                </td><td>e19ca8c0456c414185521de9930b0f9d</td><td style=\"text-align: right;\">               0</td><td>ip-10-0-41-53</td><td style=\"text-align: right;\">                         2</td><td>10.0.41.53</td><td style=\"text-align: right;\"> 4921</td><td style=\"text-align: right;\">       629.552</td><td>True               </td><td style=\"text-align: right;\">             85.3643</td><td style=\"text-align: right;\">           39.9409</td><td style=\"text-align: right;\">       85.3643</td><td style=\"text-align: right;\"> 1671044047</td><td style=\"text-align: right;\">                        0</td><td>                 </td><td style=\"text-align: right;\">                   2</td><td>79f63_00000</td><td style=\"text-align: right;\">    0.0409772</td></tr>\n",
       "</tbody>\n",
       "</table>\n",
       "</div>\n",
       "<style>\n",
       ".trialProgress {\n",
       "  display: flex;\n",
       "  flex-direction: column;\n",
       "  color: var(--jp-ui-font-color1);\n",
       "}\n",
       ".trialProgress h3 {\n",
       "  font-weight: bold;\n",
       "}\n",
       ".trialProgress td {\n",
       "  white-space: nowrap;\n",
       "}\n",
       "</style>\n"
      ],
      "text/plain": [
       "<IPython.core.display.HTML object>"
      ]
     },
     "metadata": {},
     "output_type": "display_data"
    },
    {
     "name": "stdout",
     "output_type": "stream",
     "text": [
      "(scheduler +1m42s) Resized to 72 CPUs.\n",
      "(RayTrainWorker pid=4977) [2,  2000] loss: 1.438\n",
      "(RayTrainWorker pid=4978) [2,  2000] loss: 1.410\n",
      "(RayTrainWorker pid=4977) [2,  4000] loss: 1.377\n",
      "(RayTrainWorker pid=4978) [2,  4000] loss: 1.395\n",
      "(scheduler +1m56s) Resized to 88 CPUs.\n",
      "(RayTrainWorker pid=4977) [2,  6000] loss: 1.339\n",
      "(RayTrainWorker pid=4978) [2,  6000] loss: 1.358\n",
      "(RayTrainWorker pid=4977) [2,  8000] loss: 1.329\n",
      "(RayTrainWorker pid=4978) [2,  8000] loss: 1.315\n",
      "(RayTrainWorker pid=4977) [2, 10000] loss: 1.266\n",
      "(RayTrainWorker pid=4978) [2, 10000] loss: 1.306\n",
      "(RayTrainWorker pid=4977) [2, 12000] loss: 1.262\n",
      "(RayTrainWorker pid=4978) [2, 12000] loss: 1.271\n"
     ]
    },
    {
     "name": "stderr",
     "output_type": "stream",
     "text": [
      "2022-12-14 10:54:10,025\tINFO tune.py:762 -- Total run time: 93.29 seconds (93.04 seconds for the tuning loop).\n"
     ]
    },
    {
     "name": "stdout",
     "output_type": "stream",
     "text": [
      "(scheduler +6m53s) Removing 4 nodes of type worker-node-type-0 (idle).\n",
      "(scheduler +7m0s) Removing 1 nodes of type worker-node-type-0 (idle).\n",
      "(scheduler +7m6s) Resized to 24 CPUs.\n",
      "(scheduler +7m11s) Resized to 8 CPUs.\n"
     ]
    }
   ],
   "source": [
    "from ray.train.torch import TorchTrainer\n",
    "from ray.air.config import ScalingConfig\n",
    "\n",
    "trainer = TorchTrainer(\n",
    "    train_loop_per_worker=train_loop_per_worker,\n",
    "    train_loop_config={\"batch_size\": 2},\n",
    "    datasets={\"train\": train_dataset},\n",
    "    scaling_config=ScalingConfig(num_workers=2),\n",
    ")\n",
    "result = trainer.fit()\n",
    "latest_checkpoint = result.checkpoint"
   ]
  },
  {
   "cell_type": "markdown",
   "id": "55de58c4",
   "metadata": {},
   "source": [
    "# Inference"
   ]
  },
  {
   "cell_type": "code",
   "execution_count": 7,
   "id": "93198916",
   "metadata": {},
   "outputs": [
    {
     "name": "stderr",
     "output_type": "stream",
     "text": [
      "2022-12-14 11:05:39,805\tWARNING compute.py:520 -- `batch_size` is set to 4096, which reduces parallelism from 200 to 3. If the performance is worse than expected, this may indicate that the batch size is too large or the input block size is too small. To reduce batch size, consider decreasing `batch_size` or use the default in `map_batches`. To increase input block size, consider decreasing `parallelism` in read.\n",
      "Map Progress (1 actors 1 pending): 100%|██████████| 3/3 [00:06<00:00,  2.27s/it]\n"
     ]
    }
   ],
   "source": [
    "from ray.train.torch import TorchPredictor\n",
    "from ray.train.batch_predictor import BatchPredictor\n",
    "\n",
    "batch_predictor = BatchPredictor.from_checkpoint(\n",
    "    checkpoint=latest_checkpoint,\n",
    "    predictor_cls=TorchPredictor,\n",
    "    model=Net(),\n",
    ")\n",
    "\n",
    "outputs: ray.data.Dataset = batch_predictor.predict(\n",
    "    data=test_dataset,\n",
    "    dtype=torch.float,\n",
    "    feature_columns=[\"image\"],\n",
    "    keep_columns=[\"label\"],\n",
    ")"
   ]
  },
  {
   "cell_type": "code",
   "execution_count": 8,
   "id": "98a1d467",
   "metadata": {},
   "outputs": [
    {
     "name": "stderr",
     "output_type": "stream",
     "text": [
      "Map_Batches: 100%|██████████| 3/3 [00:00<00:00, 18.68it/s]\n"
     ]
    },
    {
     "name": "stdout",
     "output_type": "stream",
     "text": [
      "{'prediction': 3, 'label': 3}\n"
     ]
    }
   ],
   "source": [
    "import numpy as np\n",
    "\n",
    "\n",
    "def convert_logits_to_classes(df):\n",
    "    best_class = df[\"predictions\"].map(lambda x: x.argmax())\n",
    "    df[\"prediction\"] = best_class\n",
    "    return df[[\"prediction\", \"label\"]]\n",
    "\n",
    "\n",
    "predictions = outputs.map_batches(convert_logits_to_classes)\n",
    "\n",
    "predictions.show(1)"
   ]
  },
  {
   "cell_type": "code",
   "execution_count": 9,
   "id": "a38fa002",
   "metadata": {},
   "outputs": [
    {
     "name": "stderr",
     "output_type": "stream",
     "text": [
      "Map_Batches: 100%|██████████| 3/3 [00:00<00:00, 178.71it/s]\n"
     ]
    },
    {
     "name": "stdout",
     "output_type": "stream",
     "text": [
      "{'prediction': 3, 'label': 3, 'correct': True}\n"
     ]
    }
   ],
   "source": [
    "def calculate_prediction_scores(df):\n",
    "    df[\"correct\"] = df[\"prediction\"] == df[\"label\"]\n",
    "    return df\n",
    "\n",
    "\n",
    "scores = predictions.map_batches(calculate_prediction_scores)\n",
    "\n",
    "scores.show(1)"
   ]
  },
  {
   "cell_type": "code",
   "execution_count": 10,
   "id": "e74feec3",
   "metadata": {},
   "outputs": [
    {
     "name": "stderr",
     "output_type": "stream",
     "text": [
      "Shuffle Map: 100%|██████████| 3/3 [00:00<00:00, 146.28it/s]\n",
      "Shuffle Reduce: 100%|██████████| 1/1 [00:00<00:00, 140.03it/s]\n"
     ]
    },
    {
     "data": {
      "text/plain": [
       "0.5284"
      ]
     },
     "execution_count": 10,
     "metadata": {},
     "output_type": "execute_result"
    }
   ],
   "source": [
    "scores.sum(on=\"correct\") / scores.count()"
   ]
  },
  {
   "cell_type": "markdown",
   "id": "31734d9e",
   "metadata": {},
   "source": [
    "# Deploy endpoint"
   ]
  },
  {
   "cell_type": "code",
   "execution_count": 11,
   "id": "94689dbe",
   "metadata": {},
   "outputs": [
    {
     "name": "stderr",
     "output_type": "stream",
     "text": [
      "(ServeController pid=8091) INFO 2022-12-14 11:07:15,070 controller 8091 http_state.py:129 - Starting HTTP proxy with name 'SERVE_CONTROLLER_ACTOR:SERVE_PROXY_ACTOR-06bd1c709cbc8865d8c8531c46af9b0ace0292ab5190b9576d993e68' on node '06bd1c709cbc8865d8c8531c46af9b0ace0292ab5190b9576d993e68' listening on '127.0.0.1:8000'\n",
      "(HTTPProxyActor pid=8134) INFO:     Started server process [8134]\n",
      "(ServeController pid=8091) INFO 2022-12-14 11:07:16,815 controller 8091 deployment_state.py:1310 - Adding 1 replica to deployment 'PredictorDeployment'.\n"
     ]
    },
    {
     "data": {
      "text/plain": [
       "RayServeSyncHandle(deployment='PredictorDeployment')"
      ]
     },
     "execution_count": 11,
     "metadata": {},
     "output_type": "execute_result"
    }
   ],
   "source": [
    "from ray import serve\n",
    "from ray.serve import PredictorDeployment\n",
    "from ray.serve.http_adapters import json_to_ndarray\n",
    "\n",
    "\n",
    "serve.run(\n",
    "    PredictorDeployment.bind(\n",
    "        TorchPredictor,\n",
    "        latest_checkpoint,\n",
    "        model=Net(),\n",
    "        http_adapter=json_to_ndarray,\n",
    "    )\n",
    ")"
   ]
  },
  {
   "cell_type": "code",
   "execution_count": 12,
   "id": "7ca59534",
   "metadata": {},
   "outputs": [],
   "source": [
    "image = test_dataset.take(1)[0][\"image\"]"
   ]
  },
  {
   "cell_type": "code",
   "execution_count": 13,
   "id": "ece0d370",
   "metadata": {},
   "outputs": [
    {
     "data": {
      "text/plain": [
       "{'predictions': [0.1587877869606018,\n",
       "  -2.208723306655884,\n",
       "  -0.14081963896751404,\n",
       "  2.143643379211426,\n",
       "  -1.3325506448745728,\n",
       "  1.3392208814620972,\n",
       "  -0.36695003509521484,\n",
       "  -0.5803686380386353,\n",
       "  1.5588059425354004,\n",
       "  -1.8596280813217163]}"
      ]
     },
     "execution_count": 13,
     "metadata": {},
     "output_type": "execute_result"
    },
    {
     "name": "stderr",
     "output_type": "stream",
     "text": [
      "(HTTPProxyActor pid=8134) INFO 2022-12-14 11:07:36,659 http_proxy 10.0.41.53 http_proxy.py:361 - POST / 200 29.0ms\n",
      "(ServeReplica:PredictorDeployment pid=8182) INFO 2022-12-14 11:07:36,657 PredictorDeployment PredictorDeployment#jzZPvO replica.py:505 - HANDLE __call__ OK 23.9ms\n"
     ]
    }
   ],
   "source": [
    "import requests\n",
    "\n",
    "payload = {\"array\": image.tolist(), \"dtype\": \"float32\"}\n",
    "response = requests.post(\"http://localhost:8000/\", json=payload)\n",
    "response.json()"
   ]
  },
  {
   "cell_type": "code",
   "execution_count": 69,
   "id": "a4f23c1b",
   "metadata": {},
   "outputs": [],
   "source": [
    "import matplotlib.pyplot as plt\n",
    "def imshow(img):\n",
    "    img = img / 2 + 0.5   # unnormalize\n",
    "    img = np.transpose(img, (1, 2, 0)) #(3, 32, 32)->(32, 32, 3)\n",
    "    plt.imshow(img) \n",
    "    plt.show()"
   ]
  },
  {
   "cell_type": "code",
   "execution_count": 70,
   "id": "b3097b22",
   "metadata": {},
   "outputs": [
    {
     "data": {
      "image/png": "[encoded data removed]",
      "text/plain": [
       "<Figure size 640x480 with 1 Axes>"
      ]
     },
     "metadata": {},
     "output_type": "display_data"
    }
   ],
   "source": [
    "imshow(image)"
   ]
  },
  {
   "cell_type": "code",
   "execution_count": 53,
   "id": "01be128b",
   "metadata": {},
   "outputs": [
    {
     "data": {
      "text/plain": [
       "<function ray.serve.api.shutdown() -> None>"
      ]
     },
     "execution_count": 53,
     "metadata": {},
     "output_type": "execute_result"
    }
   ],
   "source": [
    "serve.shutdown"
   ]
  },
  {
   "cell_type": "code",
   "execution_count": null,
   "id": "bdb2465a",
   "metadata": {},
   "outputs": [],
   "source": []
  }
 ],
 "metadata": {
  "kernelspec": {
   "display_name": "Python 3 (ipykernel)",
   "language": "python",
   "name": "python3"
  },
  "language_info": {
   "codemirror_mode": {
    "name": "ipython",
    "version": 3
   },
   "file_extension": ".py",
   "mimetype": "text/x-python",
   "name": "python",
   "nbconvert_exporter": "python",
   "pygments_lexer": "ipython3",
   "version": "3.9.12"
  }
 },
 "nbformat": 4,
 "nbformat_minor": 5
}
