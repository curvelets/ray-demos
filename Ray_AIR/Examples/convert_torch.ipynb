{
 "cells": [
  {
   "cell_type": "markdown",
   "id": "58122f03",
   "metadata": {},
   "source": [
    "# Original code"
   ]
  },
  {
   "cell_type": "code",
   "execution_count": 1,
   "id": "4a3c6a65",
   "metadata": {},
   "outputs": [
    {
     "name": "stderr",
     "output_type": "stream",
     "text": [
      "/home/ray/anaconda3/lib/python3.9/site-packages/tqdm/auto.py:22: TqdmWarning: IProgress not found. Please update jupyter and ipywidgets. See https://ipywidgets.readthedocs.io/en/stable/user_install.html\n",
      "  from .autonotebook import tqdm as notebook_tqdm\n"
     ]
    }
   ],
   "source": [
    "import torch\n",
    "from torch import nn\n",
    "from torch.utils.data import DataLoader\n",
    "from torchvision import datasets\n",
    "from torchvision.transforms import ToTensor"
   ]
  },
  {
   "cell_type": "code",
   "execution_count": 2,
   "id": "ef36440b",
   "metadata": {},
   "outputs": [],
   "source": [
    "# Download training data from open datasets.\n",
    "'''Fashion-MNIST is a dataset comprising of 28×28 grayscale images of 70,000 fashion products from 10 categories, \n",
    "with 7,000 images per category. The training set has 60,000 images and the test set has 10,000 images.\n",
    "'''\n",
    "training_data = datasets.FashionMNIST(\n",
    "    root=\"data\",\n",
    "    train=True,\n",
    "    download=True,\n",
    "    transform=ToTensor(),\n",
    ")\n",
    "\n",
    "# Download test data from open datasets.\n",
    "test_data = datasets.FashionMNIST(\n",
    "    root=\"data\",\n",
    "    train=False,\n",
    "    download=True,\n",
    "    transform=ToTensor(),\n",
    ")"
   ]
  },
  {
   "cell_type": "code",
   "execution_count": 3,
   "id": "9a1b82a3",
   "metadata": {},
   "outputs": [],
   "source": [
    "batch_size = 64\n",
    "\n",
    "# Create data loaders.\n",
    "train_dataloader = DataLoader(training_data, batch_size=batch_size)\n",
    "test_dataloader = DataLoader(test_data, batch_size=batch_size)"
   ]
  },
  {
   "cell_type": "code",
   "execution_count": 12,
   "id": "f3ea2a0e",
   "metadata": {},
   "outputs": [
    {
     "data": {
      "text/plain": [
       "tuple"
      ]
     },
     "execution_count": 12,
     "metadata": {},
     "output_type": "execute_result"
    }
   ],
   "source": [
    "type(test_data)       #torchvision.datasets.mnist.FashionMNIST\n",
    "type(test_dataloader) #torch.utils.data.dataloader.DataLoader\n",
    "type(train_dataloader.dataset) #torchvision.datasets.mnist.FashionMNIST\n",
    "type(train_dataloader.dataset[0]) # tuple (Tensor.tensor, Int)\n",
    "#num_batches = len(train_dataloader)  # num of batches, 938 for batch_size=64\n",
    "#size = len(train_dataloader.dataset) # num of samples, 60,000 for whatever batch_size"
   ]
  },
  {
   "cell_type": "code",
   "execution_count": 5,
   "id": "a8c3c473",
   "metadata": {},
   "outputs": [
    {
     "name": "stdout",
     "output_type": "stream",
     "text": [
      "Using cpu device\n",
      "NeuralNetwork(\n",
      "  (flatten): Flatten(start_dim=1, end_dim=-1)\n",
      "  (linear_relu_stack): Sequential(\n",
      "    (0): Linear(in_features=784, out_features=512, bias=True)\n",
      "    (1): ReLU()\n",
      "    (2): Linear(in_features=512, out_features=512, bias=True)\n",
      "    (3): ReLU()\n",
      "    (4): Linear(in_features=512, out_features=10, bias=True)\n",
      "  )\n",
      ")\n"
     ]
    }
   ],
   "source": [
    "# Get cpu or gpu device for training.\n",
    "device = \"cuda\" if torch.cuda.is_available() else \"cpu\"\n",
    "print(f\"Using {device} device\")\n",
    "\n",
    "# Define model\n",
    "class NeuralNetwork(nn.Module):\n",
    "    def __init__(self):\n",
    "        super(NeuralNetwork, self).__init__()\n",
    "        self.flatten = nn.Flatten()\n",
    "        self.linear_relu_stack = nn.Sequential(\n",
    "            nn.Linear(28*28, 512),\n",
    "            nn.ReLU(),\n",
    "            nn.Linear(512, 512),\n",
    "            nn.ReLU(),\n",
    "            nn.Linear(512, 10)\n",
    "        )\n",
    "\n",
    "    def forward(self, x):\n",
    "        x = self.flatten(x)\n",
    "        logits = self.linear_relu_stack(x)\n",
    "        return logits\n",
    "\n",
    "model = NeuralNetwork().to(device)\n",
    "print(model)"
   ]
  },
  {
   "cell_type": "code",
   "execution_count": 6,
   "id": "70250c47",
   "metadata": {},
   "outputs": [],
   "source": [
    "loss_fn = nn.CrossEntropyLoss()\n",
    "optimizer = torch.optim.SGD(model.parameters(), lr=1e-3)"
   ]
  },
  {
   "cell_type": "code",
   "execution_count": 7,
   "id": "746621ca",
   "metadata": {},
   "outputs": [],
   "source": [
    "def train_epoch(dataloader, model, loss_fn, optimizer):\n",
    "    size = len(dataloader.dataset)\n",
    "    model.train()\n",
    "    for batch, (X, y) in enumerate(dataloader):\n",
    "        X, y = X.to(device), y.to(device)\n",
    "\n",
    "        # Compute prediction error\n",
    "        pred = model(X)\n",
    "        loss = loss_fn(pred, y)\n",
    "\n",
    "        # Backpropagation\n",
    "        optimizer.zero_grad()\n",
    "        loss.backward()\n",
    "        optimizer.step()\n",
    "\n",
    "        if batch % 100 == 0:\n",
    "            loss, current = loss.item(), batch * len(X)\n",
    "            print(f\"loss: {loss:>7f}  [{current:>5d}/{size:>5d}]\")\n",
    "            "
   ]
  },
  {
   "cell_type": "code",
   "execution_count": 8,
   "id": "80a30dc3",
   "metadata": {},
   "outputs": [],
   "source": [
    "def test_epoch(dataloader, model, loss_fn):\n",
    "    size = len(dataloader.dataset)\n",
    "    num_batches = len(dataloader)\n",
    "    model.eval()\n",
    "    test_loss, correct = 0, 0\n",
    "    with torch.no_grad():\n",
    "        for X, y in dataloader:\n",
    "            X, y = X.to(device), y.to(device)\n",
    "            pred = model(X)\n",
    "            test_loss += loss_fn(pred, y).item()\n",
    "            correct += (pred.argmax(1) == y).type(torch.float).sum().item()\n",
    "    test_loss /= num_batches\n",
    "    correct /= size\n",
    "    print(f\"Test Error: \\n Accuracy: {(100*correct):>0.1f}%, Avg loss: {test_loss:>8f} \\n\")\n",
    "    return test_loss"
   ]
  },
  {
   "cell_type": "code",
   "execution_count": 34,
   "id": "875c59bb",
   "metadata": {
    "scrolled": true
   },
   "outputs": [
    {
     "name": "stdout",
     "output_type": "stream",
     "text": [
      "Epoch 1\n",
      "-------------------------------\n",
      "loss: 1.969066  [    0/60000]\n",
      "loss: 1.941425  [ 6400/60000]\n",
      "loss: 1.827421  [12800/60000]\n",
      "loss: 1.859762  [19200/60000]\n",
      "loss: 1.754379  [25600/60000]\n",
      "loss: 1.706143  [32000/60000]\n",
      "loss: 1.733826  [38400/60000]\n",
      "loss: 1.636626  [44800/60000]\n",
      "loss: 1.657616  [51200/60000]\n",
      "loss: 1.554481  [57600/60000]\n",
      "Test Error: \n",
      " Accuracy: 61.0%, Avg loss: 1.571355 \n",
      "\n",
      "Epoch 2\n",
      "-------------------------------\n",
      "loss: 1.637494  [    0/60000]\n",
      "loss: 1.602694  [ 6400/60000]\n",
      "loss: 1.451625  [12800/60000]\n",
      "loss: 1.510427  [19200/60000]\n",
      "loss: 1.396833  [25600/60000]\n",
      "loss: 1.387469  [32000/60000]\n",
      "loss: 1.404303  [38400/60000]\n",
      "loss: 1.331993  [44800/60000]\n",
      "loss: 1.363816  [51200/60000]\n",
      "loss: 1.260510  [57600/60000]\n",
      "Test Error: \n",
      " Accuracy: 62.9%, Avg loss: 1.291033 \n",
      "\n",
      "Epoch 3\n",
      "-------------------------------\n",
      "loss: 1.369351  [    0/60000]\n",
      "loss: 1.352154  [ 6400/60000]\n",
      "loss: 1.184853  [12800/60000]\n",
      "loss: 1.273540  [19200/60000]\n",
      "loss: 1.156797  [25600/60000]\n",
      "loss: 1.176137  [32000/60000]\n",
      "loss: 1.197856  [38400/60000]\n",
      "loss: 1.140314  [44800/60000]\n",
      "loss: 1.177511  [51200/60000]\n",
      "loss: 1.088542  [57600/60000]\n",
      "Test Error: \n",
      " Accuracy: 64.4%, Avg loss: 1.115205 \n",
      "\n",
      "Epoch 4\n",
      "-------------------------------\n",
      "loss: 1.187555  [    0/60000]\n",
      "loss: 1.190912  [ 6400/60000]\n",
      "loss: 1.008511  [12800/60000]\n",
      "loss: 1.126220  [19200/60000]\n",
      "loss: 1.007421  [25600/60000]\n",
      "loss: 1.034819  [32000/60000]\n",
      "loss: 1.070215  [38400/60000]\n",
      "loss: 1.017031  [44800/60000]\n",
      "loss: 1.056140  [51200/60000]\n",
      "loss: 0.982116  [57600/60000]\n",
      "Test Error: \n",
      " Accuracy: 65.3%, Avg loss: 1.002349 \n",
      "\n",
      "Epoch 5\n",
      "-------------------------------\n",
      "loss: 1.061683  [    0/60000]\n",
      "loss: 1.086581  [ 6400/60000]\n",
      "loss: 0.888359  [12800/60000]\n",
      "loss: 1.029238  [19200/60000]\n",
      "loss: 0.914180  [25600/60000]\n",
      "loss: 0.936140  [32000/60000]\n",
      "loss: 0.987902  [38400/60000]\n",
      "loss: 0.936214  [44800/60000]\n",
      "loss: 0.972923  [51200/60000]\n",
      "loss: 0.911925  [57600/60000]\n",
      "Test Error: \n",
      " Accuracy: 66.5%, Avg loss: 0.926109 \n",
      "\n",
      "Done!\n"
     ]
    }
   ],
   "source": [
    "epochs = 5\n",
    "for t in range(epochs):\n",
    "    print(f\"Epoch {t+1}\\n-------------------------------\")\n",
    "    train_epoch(train_dataloader, model, loss_fn, optimizer)\n",
    "    test_epoch(test_dataloader, model, loss_fn)\n",
    "print(\"Done!\")"
   ]
  },
  {
   "cell_type": "markdown",
   "id": "6f885024",
   "metadata": {},
   "source": [
    "# Wrapper function"
   ]
  },
  {
   "cell_type": "code",
   "execution_count": 9,
   "id": "a0811875",
   "metadata": {},
   "outputs": [],
   "source": [
    "def train_func():\n",
    "    batch_size = 64\n",
    "    lr = 1e-3\n",
    "    epochs = 5\n",
    "    \n",
    "    # Create data loaders.\n",
    "    train_dataloader = DataLoader(training_data, batch_size=batch_size)\n",
    "    test_dataloader = DataLoader(test_data, batch_size=batch_size)\n",
    "    \n",
    "    # Get cpu or gpu device for training.\n",
    "    device = \"cuda\" if torch.cuda.is_available() else \"cpu\"\n",
    "    print(f\"Using {device} device\")\n",
    "    \n",
    "    model = NeuralNetwork().to(device)\n",
    "    print(model)\n",
    "    \n",
    "    loss_fn = nn.CrossEntropyLoss()\n",
    "    optimizer = torch.optim.SGD(model.parameters(), lr=lr)\n",
    "    \n",
    "    for t in range(epochs):\n",
    "        print(f\"Epoch {t+1}\\n-------------------------------\")\n",
    "        train_epoch(train_dataloader, model, loss_fn, optimizer)\n",
    "        test_epoch(test_dataloader, model, loss_fn)\n",
    "\n",
    "    print(\"Done!\")"
   ]
  },
  {
   "cell_type": "code",
   "execution_count": 10,
   "id": "34bde725",
   "metadata": {
    "scrolled": true
   },
   "outputs": [
    {
     "name": "stdout",
     "output_type": "stream",
     "text": [
      "Using cpu device\n",
      "NeuralNetwork(\n",
      "  (flatten): Flatten(start_dim=1, end_dim=-1)\n",
      "  (linear_relu_stack): Sequential(\n",
      "    (0): Linear(in_features=784, out_features=512, bias=True)\n",
      "    (1): ReLU()\n",
      "    (2): Linear(in_features=512, out_features=512, bias=True)\n",
      "    (3): ReLU()\n",
      "    (4): Linear(in_features=512, out_features=10, bias=True)\n",
      "  )\n",
      ")\n",
      "Epoch 1\n",
      "-------------------------------\n",
      "loss: 2.298182  [    0/60000]\n",
      "loss: 2.286429  [ 6400/60000]\n",
      "loss: 2.269938  [12800/60000]\n",
      "loss: 2.266409  [19200/60000]\n",
      "loss: 2.262412  [25600/60000]\n",
      "loss: 2.222612  [32000/60000]\n",
      "loss: 2.227608  [38400/60000]\n",
      "loss: 2.193105  [44800/60000]\n",
      "loss: 2.191217  [51200/60000]\n",
      "loss: 2.155695  [57600/60000]\n",
      "Test Error: \n",
      " Accuracy: 42.9%, Avg loss: 2.156213 \n",
      "\n",
      "Epoch 2\n",
      "-------------------------------\n",
      "loss: 2.165565  [    0/60000]\n",
      "loss: 2.158086  [ 6400/60000]\n",
      "loss: 2.101922  [12800/60000]\n",
      "loss: 2.116251  [19200/60000]\n",
      "loss: 2.090752  [25600/60000]\n",
      "loss: 2.012789  [32000/60000]\n",
      "loss: 2.031749  [38400/60000]\n",
      "loss: 1.956159  [44800/60000]\n",
      "loss: 1.960943  [51200/60000]\n",
      "loss: 1.879030  [57600/60000]\n",
      "Test Error: \n",
      " Accuracy: 59.8%, Avg loss: 1.890893 \n",
      "\n",
      "Epoch 3\n",
      "-------------------------------\n",
      "loss: 1.921849  [    0/60000]\n",
      "loss: 1.895814  [ 6400/60000]\n",
      "loss: 1.784393  [12800/60000]\n",
      "loss: 1.816445  [19200/60000]\n",
      "loss: 1.732975  [25600/60000]\n",
      "loss: 1.669893  [32000/60000]\n",
      "loss: 1.668599  [38400/60000]\n",
      "loss: 1.577957  [44800/60000]\n",
      "loss: 1.606166  [51200/60000]\n",
      "loss: 1.484654  [57600/60000]\n",
      "Test Error: \n",
      " Accuracy: 62.0%, Avg loss: 1.518086 \n",
      "\n",
      "Epoch 4\n",
      "-------------------------------\n",
      "loss: 1.585944  [    0/60000]\n",
      "loss: 1.552152  [ 6400/60000]\n",
      "loss: 1.406919  [12800/60000]\n",
      "loss: 1.470406  [19200/60000]\n",
      "loss: 1.370634  [25600/60000]\n",
      "loss: 1.361259  [32000/60000]\n",
      "loss: 1.353088  [38400/60000]\n",
      "loss: 1.283101  [44800/60000]\n",
      "loss: 1.329134  [51200/60000]\n",
      "loss: 1.217099  [57600/60000]\n",
      "Test Error: \n",
      " Accuracy: 62.8%, Avg loss: 1.250081 \n",
      "\n",
      "Epoch 5\n",
      "-------------------------------\n",
      "loss: 1.330982  [    0/60000]\n",
      "loss: 1.312193  [ 6400/60000]\n",
      "loss: 1.147736  [12800/60000]\n",
      "loss: 1.249757  [19200/60000]\n",
      "loss: 1.134752  [25600/60000]\n",
      "loss: 1.163746  [32000/60000]\n",
      "loss: 1.164762  [38400/60000]\n",
      "loss: 1.102817  [44800/60000]\n",
      "loss: 1.156108  [51200/60000]\n",
      "loss: 1.064369  [57600/60000]\n",
      "Test Error: \n",
      " Accuracy: 64.3%, Avg loss: 1.085974 \n",
      "\n",
      "Done!\n"
     ]
    }
   ],
   "source": [
    "train_func()"
   ]
  },
  {
   "cell_type": "markdown",
   "id": "77c72a8c",
   "metadata": {},
   "source": [
    "# Convert to AIR "
   ]
  },
  {
   "cell_type": "code",
   "execution_count": 11,
   "id": "a7bd1ead",
   "metadata": {},
   "outputs": [
    {
     "name": "stderr",
     "output_type": "stream",
     "text": [
      "2022-12-18 18:01:19,275\tINFO worker.py:1230 -- Using address localhost:9031 set in the environment variable RAY_ADDRESS\n",
      "2022-12-18 18:01:19,582\tINFO worker.py:1352 -- Connecting to existing Ray cluster at address: 10.0.0.201:9031...\n",
      "2022-12-18 18:01:19,623\tINFO worker.py:1529 -- Connected to Ray cluster. View the dashboard at \u001b[1m\u001b[32mhttps://console.anyscale.com/api/v2/sessions/ses_buwxbm99nq8dryqg6p8sbytw/services?redirect_to=dashboard \u001b[39m\u001b[22m\n",
      "2022-12-18 18:01:19,628\tINFO packaging.py:546 -- Creating a file package for local directory '.'.\n",
      "2022-12-18 18:01:19,630\tINFO packaging.py:373 -- Pushing file package 'gcs://_ray_pkg_d2d377011b1433ea.zip' (0.07MiB) to Ray cluster...\n",
      "2022-12-18 18:01:19,632\tINFO packaging.py:386 -- Successfully pushed file package 'gcs://_ray_pkg_d2d377011b1433ea.zip'.\n"
     ]
    },
    {
     "data": {
      "text/html": [
       "<div>\n",
       "    <div style=\"margin-left: 50px;display: flex;flex-direction: row;align-items: center\">\n",
       "        <h3 style=\"color: var(--jp-ui-font-color0)\">Ray</h3>\n",
       "        <svg version=\"1.1\" id=\"ray\" width=\"3em\" viewBox=\"0 0 144.5 144.6\" style=\"margin-left: 3em;margin-right: 3em\">\n",
       "            <g id=\"layer-1\">\n",
       "                <path fill=\"#00a2e9\" class=\"st0\" d=\"M97.3,77.2c-3.8-1.1-6.2,0.9-8.3,5.1c-3.5,6.8-9.9,9.9-17.4,9.6S58,88.1,54.8,81.2c-1.4-3-3-4-6.3-4.1\n",
       "                    c-5.6-0.1-9.9,0.1-13.1,6.4c-3.8,7.6-13.6,10.2-21.8,7.6C5.2,88.4-0.4,80.5,0,71.7c0.1-8.4,5.7-15.8,13.8-18.2\n",
       "                    c8.4-2.6,17.5,0.7,22.3,8c1.3,1.9,1.3,5.2,3.6,5.6c3.9,0.6,8,0.2,12,0.2c1.8,0,1.9-1.6,2.4-2.8c3.5-7.8,9.7-11.8,18-11.9\n",
       "                    c8.2-0.1,14.4,3.9,17.8,11.4c1.3,2.8,2.9,3.6,5.7,3.3c1-0.1,2,0.1,3,0c2.8-0.5,6.4,1.7,8.1-2.7s-2.3-5.5-4.1-7.5\n",
       "                    c-5.1-5.7-10.9-10.8-16.1-16.3C84,38,81.9,37.1,78,38.3C66.7,42,56.2,35.7,53,24.1C50.3,14,57.3,2.8,67.7,0.5\n",
       "                    C78.4-2,89,4.7,91.5,15.3c0.1,0.3,0.1,0.5,0.2,0.8c0.7,3.4,0.7,6.9-0.8,9.8c-1.7,3.2-0.8,5,1.5,7.2c6.7,6.5,13.3,13,19.8,19.7\n",
       "                    c1.8,1.8,3,2.1,5.5,1.2c9.1-3.4,17.9-0.6,23.4,7c4.8,6.9,4.6,16.1-0.4,22.9c-5.4,7.2-14.2,9.9-23.1,6.5c-2.3-0.9-3.5-0.6-5.1,1.1\n",
       "                    c-6.7,6.9-13.6,13.7-20.5,20.4c-1.8,1.8-2.5,3.2-1.4,5.9c3.5,8.7,0.3,18.6-7.7,23.6c-7.9,5-18.2,3.8-24.8-2.9\n",
       "                    c-6.4-6.4-7.4-16.2-2.5-24.3c4.9-7.8,14.5-11,23.1-7.8c3,1.1,4.7,0.5,6.9-1.7C91.7,98.4,98,92.3,104.2,86c1.6-1.6,4.1-2.7,2.6-6.2\n",
       "                    c-1.4-3.3-3.8-2.5-6.2-2.6C99.8,77.2,98.9,77.2,97.3,77.2z M72.1,29.7c5.5,0.1,9.9-4.3,10-9.8c0-0.1,0-0.2,0-0.3\n",
       "                    C81.8,14,77,9.8,71.5,10.2c-5,0.3-9,4.2-9.3,9.2c-0.2,5.5,4,10.1,9.5,10.3C71.8,29.7,72,29.7,72.1,29.7z M72.3,62.3\n",
       "                    c-5.4-0.1-9.9,4.2-10.1,9.7c0,0.2,0,0.3,0,0.5c0.2,5.4,4.5,9.7,9.9,10c5.1,0.1,9.9-4.7,10.1-9.8c0.2-5.5-4-10-9.5-10.3\n",
       "                    C72.6,62.3,72.4,62.3,72.3,62.3z M115,72.5c0.1,5.4,4.5,9.7,9.8,9.9c5.6-0.2,10-4.8,10-10.4c-0.2-5.4-4.6-9.7-10-9.7\n",
       "                    c-5.3-0.1-9.8,4.2-9.9,9.5C115,72.1,115,72.3,115,72.5z M19.5,62.3c-5.4,0.1-9.8,4.4-10,9.8c-0.1,5.1,5.2,10.4,10.2,10.3\n",
       "                    c5.6-0.2,10-4.9,9.8-10.5c-0.1-5.4-4.5-9.7-9.9-9.6C19.6,62.3,19.5,62.3,19.5,62.3z M71.8,134.6c5.9,0.2,10.3-3.9,10.4-9.6\n",
       "                    c0.5-5.5-3.6-10.4-9.1-10.8c-5.5-0.5-10.4,3.6-10.8,9.1c0,0.5,0,0.9,0,1.4c-0.2,5.3,4,9.8,9.3,10\n",
       "                    C71.6,134.6,71.7,134.6,71.8,134.6z\"/>\n",
       "            </g>\n",
       "        </svg>\n",
       "        <table>\n",
       "            <tr>\n",
       "                <td style=\"text-align: left\"><b>Python version:</b></td>\n",
       "                <td style=\"text-align: left\"><b>3.9.12</b></td>\n",
       "            </tr>\n",
       "            <tr>\n",
       "                <td style=\"text-align: left\"><b>Ray version:</b></td>\n",
       "                <td style=\"text-align: left\"><b> 2.2.0</b></td>\n",
       "            </tr>\n",
       "            <tr>\n",
       "    <td style=\"text-align: left\"><b>Dashboard:</b></td>\n",
       "    <td style=\"text-align: left\"><b><a href=\"http://console.anyscale.com/api/v2/sessions/ses_buwxbm99nq8dryqg6p8sbytw/services?redirect_to=dashboard\" target=\"_blank\">http://console.anyscale.com/api/v2/sessions/ses_buwxbm99nq8dryqg6p8sbytw/services?redirect_to=dashboard</a></b></td>\n",
       "</tr>\n",
       "\n",
       "        </table>\n",
       "    </div>\n",
       "</div>\n"
      ],
      "text/plain": [
       "RayContext(dashboard_url='console.anyscale.com/api/v2/sessions/ses_buwxbm99nq8dryqg6p8sbytw/services?redirect_to=dashboard', python_version='3.9.12', ray_version='2.2.0', ray_commit='b6af0887ee5f2e460202133791ad941a41f15beb', address_info={'node_ip_address': '10.0.0.201', 'raylet_ip_address': '10.0.0.201', 'redis_address': None, 'object_store_address': '/tmp/ray/session_2022-12-18_17-47-47_397607_203/sockets/plasma_store', 'raylet_socket_name': '/tmp/ray/session_2022-12-18_17-47-47_397607_203/sockets/raylet', 'webui_url': 'console.anyscale.com/api/v2/sessions/ses_buwxbm99nq8dryqg6p8sbytw/services?redirect_to=dashboard', 'session_dir': '/tmp/ray/session_2022-12-18_17-47-47_397607_203', 'metrics_export_port': 52493, 'gcs_address': '10.0.0.201:9031', 'address': '10.0.0.201:9031', 'dashboard_agent_listen_port': 52365, 'node_id': '7647c4989cf66af3e61bf454ea90e9cca95fa366f3a0b7521ad195a9'})"
      ]
     },
     "execution_count": 11,
     "metadata": {},
     "output_type": "execute_result"
    }
   ],
   "source": [
    "import ray\n",
    "import ray.train as train\n",
    "from ray.air import session\n",
    "\n",
    "runtime_env = {\n",
    "    \"working_dir\": \".\",\n",
    "    \"excludes\":['/data/','/.ipynb_checkpoints/']\n",
    "}\n",
    "ray.init(runtime_env=runtime_env)"
   ]
  },
  {
   "cell_type": "code",
   "execution_count": 24,
   "id": "8861b387",
   "metadata": {},
   "outputs": [],
   "source": [
    "def train_epoch(dataloader, model, loss_fn, optimizer):\n",
    "    size = len(dataloader.dataset) // session.get_world_size()  # Divide by word size\n",
    "    model.train()\n",
    "    for batch, (X, y) in enumerate(dataloader):\n",
    "        # We don't need this anymore! Ray Train does this automatically:\n",
    "        # X, y = X.to(device), y.to(device)  \n",
    "\n",
    "        # Compute prediction error\n",
    "        pred = model(X)\n",
    "        loss = loss_fn(pred, y)\n",
    "\n",
    "        # Backpropagation\n",
    "        optimizer.zero_grad()\n",
    "        loss.backward()\n",
    "        optimizer.step()\n",
    "\n",
    "        if batch % 100 == 0:\n",
    "            loss, current = loss.item(), batch * len(X)\n",
    "            print(f\"loss: {loss:>7f}  [{current:>5d}/{size:>5d}]\")"
   ]
  },
  {
   "cell_type": "code",
   "execution_count": 25,
   "id": "99f5fdf3",
   "metadata": {},
   "outputs": [],
   "source": [
    "def test_epoch(dataloader, model, loss_fn):\n",
    "    size = len(dataloader.dataset) // session.get_world_size()  # Divide by word size\n",
    "    num_batches = len(dataloader)\n",
    "    model.eval()\n",
    "    test_loss, correct = 0, 0\n",
    "    with torch.no_grad():\n",
    "        for X, y in dataloader:\n",
    "            X, y = X.to(device), y.to(device)\n",
    "            pred = model(X)\n",
    "            test_loss += loss_fn(pred, y).item()\n",
    "            correct += (pred.argmax(1) == y).type(torch.float).sum().item()\n",
    "    test_loss /= num_batches\n",
    "    correct /= size\n",
    "    # print(f\"Test Error: \\n Accuracy: {(100*correct):>0.1f}%, Avg loss: {test_loss:>8f} \\n\")\n",
    "    return test_loss"
   ]
  },
  {
   "cell_type": "code",
   "execution_count": 39,
   "id": "722da28b",
   "metadata": {},
   "outputs": [],
   "source": [
    "from ray.air import Checkpoint\n",
    "\n",
    "def train_func(config: dict):\n",
    "    batch_size = config[\"batch_size\"]\n",
    "    lr = config[\"lr\"]\n",
    "    epochs = config[\"epochs\"]\n",
    "    \n",
    "    batch_size_per_worker = batch_size // session.get_world_size()\n",
    "    \n",
    "    # Create data loaders.\n",
    "    train_dataloader = DataLoader(training_data, batch_size=batch_size_per_worker)\n",
    "    test_dataloader = DataLoader(test_data, batch_size=batch_size_per_worker)\n",
    "    print(f'training # of batches is {len(train_dataloader)} with {session.get_world_size()} workers')\n",
    "    \n",
    "    train_dataloader = train.torch.prepare_data_loader(train_dataloader)\n",
    "    test_dataloader = train.torch.prepare_data_loader(test_dataloader)\n",
    "    \n",
    "    model = NeuralNetwork()\n",
    "    model = train.torch.prepare_model(model)\n",
    "    \n",
    "    loss_fn = nn.CrossEntropyLoss()\n",
    "    optimizer = torch.optim.SGD(model.parameters(), lr=lr)\n",
    "    \n",
    "    for t in range(epochs):\n",
    "        print(f\"Epoch {t+1}\\n-------------------------------\")\n",
    "        train_epoch(train_dataloader, model, loss_fn, optimizer)\n",
    "        test_loss = test_epoch(test_dataloader, model, loss_fn)\n",
    "        \n",
    "        checkpoint = Checkpoint.from_dict(\n",
    "            dict(epoch=t, model=model.module.state_dict())\n",
    "        )\n",
    "        session.report(dict(loss=test_loss), checkpoint=checkpoint)\n",
    "\n",
    "    print(\"Done!\")"
   ]
  },
  {
   "cell_type": "code",
   "execution_count": 40,
   "id": "dea15618",
   "metadata": {},
   "outputs": [
    {
     "data": {
      "text/plain": [
       "938"
      ]
     },
     "execution_count": 40,
     "metadata": {},
     "output_type": "execute_result"
    }
   ],
   "source": [
    "len(DataLoader(training_data, batch_size=64))"
   ]
  },
  {
   "cell_type": "code",
   "execution_count": 41,
   "id": "a6028726",
   "metadata": {
    "scrolled": true
   },
   "outputs": [
    {
     "data": {
      "text/html": [
       "<div class=\"tuneStatus\">\n",
       "  <div style=\"display: flex;flex-direction: row\">\n",
       "    <div style=\"display: flex;flex-direction: column;\">\n",
       "      <h3>Tune Status</h3>\n",
       "      <table>\n",
       "<tbody>\n",
       "<tr><td>Current time:</td><td>2022-12-18 19:15:57</td></tr>\n",
       "<tr><td>Running for: </td><td>00:00:55.96        </td></tr>\n",
       "<tr><td>Memory:      </td><td>3.4/30.9 GiB       </td></tr>\n",
       "</tbody>\n",
       "</table>\n",
       "    </div>\n",
       "    <div class=\"vDivider\"></div>\n",
       "    <div class=\"systemInfo\">\n",
       "      <h3>System Info</h3>\n",
       "      Using FIFO scheduling algorithm.<br>Resources requested: 0/8 CPUs, 0/0 GPUs, 0.0/16.91 GiB heap, 0.0/8.45 GiB objects\n",
       "    </div>\n",
       "    \n",
       "  </div>\n",
       "  <div class=\"hDivider\"></div>\n",
       "  <div class=\"trialStatus\">\n",
       "    <h3>Trial Status</h3>\n",
       "    <table>\n",
       "<thead>\n",
       "<tr><th>Trial name              </th><th>status    </th><th>loc             </th><th style=\"text-align: right;\">  iter</th><th style=\"text-align: right;\">  total time (s)</th><th style=\"text-align: right;\">  loss</th><th style=\"text-align: right;\">  _timestamp</th><th style=\"text-align: right;\">  _time_this_iter_s</th></tr>\n",
       "</thead>\n",
       "<tbody>\n",
       "<tr><td>TorchTrainer_537a4_00000</td><td>TERMINATED</td><td>10.0.0.201:19159</td><td style=\"text-align: right;\">     4</td><td style=\"text-align: right;\">         46.9073</td><td style=\"text-align: right;\">1.2252</td><td style=\"text-align: right;\">  1671419755</td><td style=\"text-align: right;\">            10.6953</td></tr>\n",
       "</tbody>\n",
       "</table>\n",
       "  </div>\n",
       "</div>\n",
       "<style>\n",
       ".tuneStatus {\n",
       "  color: var(--jp-ui-font-color1);\n",
       "}\n",
       ".tuneStatus .systemInfo {\n",
       "  display: flex;\n",
       "  flex-direction: column;\n",
       "}\n",
       ".tuneStatus td {\n",
       "  white-space: nowrap;\n",
       "}\n",
       ".tuneStatus .trialStatus {\n",
       "  display: flex;\n",
       "  flex-direction: column;\n",
       "}\n",
       ".tuneStatus h3 {\n",
       "  font-weight: bold;\n",
       "}\n",
       ".tuneStatus .hDivider {\n",
       "  border-bottom-width: var(--jp-border-width);\n",
       "  border-bottom-color: var(--jp-border-color0);\n",
       "  border-bottom-style: solid;\n",
       "}\n",
       ".tuneStatus .vDivider {\n",
       "  border-left-width: var(--jp-border-width);\n",
       "  border-left-color: var(--jp-border-color0);\n",
       "  border-left-style: solid;\n",
       "  margin: 0.5em 1em 0.5em 1em;\n",
       "}\n",
       "</style>\n"
      ],
      "text/plain": [
       "<IPython.core.display.HTML object>"
      ]
     },
     "metadata": {},
     "output_type": "display_data"
    },
    {
     "name": "stderr",
     "output_type": "stream",
     "text": [
      "(RayTrainWorker pid=19219) 2022-12-18 19:15:12,756\tINFO config.py:86 -- Setting up process group for: env:// [rank=0, world_size=2]\n",
      "(RayTrainWorker pid=19219) 2022-12-18 19:15:14,644\tINFO train_loop_utils.py:270 -- Moving model to device: cpu\n",
      "(RayTrainWorker pid=19219) 2022-12-18 19:15:14,644\tINFO train_loop_utils.py:330 -- Wrapping provided model in DistributedDataParallel.\n"
     ]
    },
    {
     "name": "stdout",
     "output_type": "stream",
     "text": [
      "(RayTrainWorker pid=19219) training # of batches is 1875 with 2 workers\n",
      "(RayTrainWorker pid=19219) Epoch 1\n",
      "(RayTrainWorker pid=19219) -------------------------------\n",
      "(RayTrainWorker pid=19219) loss: 2.314141  [    0/30000]\n",
      "(RayTrainWorker pid=19220) training # of batches is 1875 with 2 workers\n",
      "(RayTrainWorker pid=19220) Epoch 1\n",
      "(RayTrainWorker pid=19220) -------------------------------\n",
      "(RayTrainWorker pid=19220) loss: 2.295399  [    0/30000]\n",
      "(RayTrainWorker pid=19219) loss: 2.300298  [ 3200/30000]\n",
      "(RayTrainWorker pid=19220) loss: 2.285585  [ 3200/30000]\n",
      "(RayTrainWorker pid=19219) loss: 2.267904  [ 6400/30000]\n",
      "(RayTrainWorker pid=19220) loss: 2.281327  [ 6400/30000]\n",
      "(RayTrainWorker pid=19219) loss: 2.261655  [ 9600/30000]\n",
      "(RayTrainWorker pid=19220) loss: 2.275296  [ 9600/30000]\n",
      "(RayTrainWorker pid=19219) loss: 2.254933  [12800/30000]\n",
      "(RayTrainWorker pid=19220) loss: 2.237907  [12800/30000]\n",
      "(RayTrainWorker pid=19219) loss: 2.203960  [16000/30000]\n",
      "(RayTrainWorker pid=19220) loss: 2.216156  [16000/30000]\n",
      "(RayTrainWorker pid=19219) loss: 2.230039  [19200/30000]\n",
      "(RayTrainWorker pid=19220) loss: 2.227021  [19200/30000]\n",
      "(RayTrainWorker pid=19219) loss: 2.145478  [22400/30000]\n",
      "(RayTrainWorker pid=19220) loss: 2.225425  [22400/30000]\n",
      "(RayTrainWorker pid=19219) loss: 2.202199  [25600/30000]\n",
      "(RayTrainWorker pid=19220) loss: 2.188498  [25600/30000]\n",
      "(RayTrainWorker pid=19219) loss: 2.148483  [28800/30000]\n",
      "(RayTrainWorker pid=19220) loss: 2.164852  [28800/30000]\n"
     ]
    },
    {
     "data": {
      "text/html": [
       "<div class=\"trialProgress\">\n",
       "  <h3>Trial Progress</h3>\n",
       "  <table>\n",
       "<thead>\n",
       "<tr><th>Trial name              </th><th style=\"text-align: right;\">  _time_this_iter_s</th><th style=\"text-align: right;\">  _timestamp</th><th style=\"text-align: right;\">  _training_iteration</th><th>date               </th><th>done  </th><th>episodes_total  </th><th>experiment_id                   </th><th style=\"text-align: right;\">  experiment_tag</th><th>hostname     </th><th style=\"text-align: right;\">  iterations_since_restore</th><th style=\"text-align: right;\">  loss</th><th>node_ip   </th><th style=\"text-align: right;\">  pid</th><th>should_checkpoint  </th><th style=\"text-align: right;\">  time_since_restore</th><th style=\"text-align: right;\">  time_this_iter_s</th><th style=\"text-align: right;\">  time_total_s</th><th style=\"text-align: right;\">  timestamp</th><th style=\"text-align: right;\">  timesteps_since_restore</th><th>timesteps_total  </th><th style=\"text-align: right;\">  training_iteration</th><th>trial_id   </th><th style=\"text-align: right;\">  warmup_time</th></tr>\n",
       "</thead>\n",
       "<tbody>\n",
       "<tr><td>TorchTrainer_537a4_00000</td><td style=\"text-align: right;\">            10.6953</td><td style=\"text-align: right;\">  1671419755</td><td style=\"text-align: right;\">                    4</td><td>2022-12-18_19-15-55</td><td>True  </td><td>                </td><td>3e7c1fa2a8ea49b78d04719cf428ef98</td><td style=\"text-align: right;\">               0</td><td>ip-10-0-0-201</td><td style=\"text-align: right;\">                         4</td><td style=\"text-align: right;\">1.2252</td><td>10.0.0.201</td><td style=\"text-align: right;\">19159</td><td>True               </td><td style=\"text-align: right;\">             46.9073</td><td style=\"text-align: right;\">            10.697</td><td style=\"text-align: right;\">       46.9073</td><td style=\"text-align: right;\"> 1671419755</td><td style=\"text-align: right;\">                        0</td><td>                 </td><td style=\"text-align: right;\">                   4</td><td>537a4_00000</td><td style=\"text-align: right;\">     0.808959</td></tr>\n",
       "</tbody>\n",
       "</table>\n",
       "</div>\n",
       "<style>\n",
       ".trialProgress {\n",
       "  display: flex;\n",
       "  flex-direction: column;\n",
       "  color: var(--jp-ui-font-color1);\n",
       "}\n",
       ".trialProgress h3 {\n",
       "  font-weight: bold;\n",
       "}\n",
       ".trialProgress td {\n",
       "  white-space: nowrap;\n",
       "}\n",
       "</style>\n"
      ],
      "text/plain": [
       "<IPython.core.display.HTML object>"
      ]
     },
     "metadata": {},
     "output_type": "display_data"
    },
    {
     "name": "stdout",
     "output_type": "stream",
     "text": [
      "(RayTrainWorker pid=19219) Epoch 2\n",
      "(RayTrainWorker pid=19219) -------------------------------\n",
      "(RayTrainWorker pid=19219) loss: 2.182901  [    0/30000]\n",
      "(RayTrainWorker pid=19220) Epoch 2\n",
      "(RayTrainWorker pid=19220) -------------------------------\n",
      "(RayTrainWorker pid=19220) loss: 2.146998  [    0/30000]\n",
      "(RayTrainWorker pid=19219) loss: 2.174196  [ 3200/30000]\n",
      "(RayTrainWorker pid=19220) loss: 2.119638  [ 3200/30000]\n",
      "(RayTrainWorker pid=19219) loss: 2.066749  [ 6400/30000]\n",
      "(RayTrainWorker pid=19220) loss: 2.117077  [ 6400/30000]\n",
      "(RayTrainWorker pid=19219) loss: 2.104596  [ 9600/30000]\n",
      "(RayTrainWorker pid=19220) loss: 2.110544  [ 9600/30000]\n",
      "(RayTrainWorker pid=19219) loss: 2.057695  [12800/30000]\n",
      "(RayTrainWorker pid=19220) loss: 2.028703  [12800/30000]\n",
      "(RayTrainWorker pid=19219) loss: 1.970710  [16000/30000]\n",
      "(RayTrainWorker pid=19220) loss: 2.002645  [16000/30000]\n",
      "(RayTrainWorker pid=19219) loss: 2.034284  [19200/30000]\n",
      "(RayTrainWorker pid=19220) loss: 1.997188  [19200/30000]\n",
      "(RayTrainWorker pid=19219) loss: 1.844148  [22400/30000]\n",
      "(RayTrainWorker pid=19220) loss: 2.018529  [22400/30000]\n",
      "(RayTrainWorker pid=19219) loss: 1.972340  [25600/30000]\n",
      "(RayTrainWorker pid=19220) loss: 1.932157  [25600/30000]\n",
      "(RayTrainWorker pid=19219) loss: 1.872628  [28800/30000]\n",
      "(RayTrainWorker pid=19220) loss: 1.869269  [28800/30000]\n",
      "(RayTrainWorker pid=19219) Epoch 3\n",
      "(RayTrainWorker pid=19219) -------------------------------\n",
      "(RayTrainWorker pid=19219) loss: 1.916952  [    0/30000]\n",
      "(RayTrainWorker pid=19220) Epoch 3\n",
      "(RayTrainWorker pid=19220) -------------------------------\n",
      "(RayTrainWorker pid=19220) loss: 1.889069  [    0/30000]\n",
      "(RayTrainWorker pid=19219) loss: 1.903423  [ 3200/30000]\n",
      "(RayTrainWorker pid=19220) loss: 1.820311  [ 3200/30000]\n",
      "(RayTrainWorker pid=19219) loss: 1.679848  [ 6400/30000]\n",
      "(RayTrainWorker pid=19220) loss: 1.821974  [ 6400/30000]\n",
      "(RayTrainWorker pid=19219) loss: 1.809354  [ 9600/30000]\n",
      "(RayTrainWorker pid=19220) loss: 1.776901  [ 9600/30000]\n",
      "(RayTrainWorker pid=19219) loss: 1.670458  [12800/30000]\n",
      "(RayTrainWorker pid=19220) loss: 1.672338  [12800/30000]\n",
      "(RayTrainWorker pid=19219) loss: 1.612879  [16000/30000]\n",
      "(RayTrainWorker pid=19220) loss: 1.651792  [16000/30000]\n",
      "(RayTrainWorker pid=19219) loss: 1.698791  [19200/30000]\n",
      "(RayTrainWorker pid=19220) loss: 1.604998  [19200/30000]\n",
      "(RayTrainWorker pid=19219) loss: 1.441303  [22400/30000]\n",
      "(RayTrainWorker pid=19220) loss: 1.671589  [22400/30000]\n",
      "(RayTrainWorker pid=19219) loss: 1.643256  [25600/30000]\n",
      "(RayTrainWorker pid=19220) loss: 1.542980  [25600/30000]\n",
      "(RayTrainWorker pid=19219) loss: 1.499680  [28800/30000]\n",
      "(RayTrainWorker pid=19220) loss: 1.460787  [28800/30000]\n",
      "(RayTrainWorker pid=19219) Epoch 4\n",
      "(RayTrainWorker pid=19219) -------------------------------\n",
      "(RayTrainWorker pid=19219) loss: 1.572925  [    0/30000]\n",
      "(RayTrainWorker pid=19220) Epoch 4\n",
      "(RayTrainWorker pid=19220) -------------------------------\n",
      "(RayTrainWorker pid=19220) loss: 1.561462  [    0/30000]\n",
      "(RayTrainWorker pid=19219) loss: 1.567713  [ 3200/30000]\n",
      "(RayTrainWorker pid=19220) loss: 1.481880  [ 3200/30000]\n",
      "(RayTrainWorker pid=19219) loss: 1.302601  [ 6400/30000]\n",
      "(RayTrainWorker pid=19220) loss: 1.469261  [ 6400/30000]\n",
      "(RayTrainWorker pid=19219) loss: 1.484236  [ 9600/30000]\n",
      "(RayTrainWorker pid=19220) loss: 1.427179  [ 9600/30000]\n",
      "(RayTrainWorker pid=19219) loss: 1.313271  [12800/30000]\n",
      "(RayTrainWorker pid=19220) loss: 1.347213  [12800/30000]\n",
      "(RayTrainWorker pid=19219) loss: 1.337887  [16000/30000]\n",
      "(RayTrainWorker pid=19220) loss: 1.330276  [16000/30000]\n",
      "(RayTrainWorker pid=19219) loss: 1.387905  [19200/30000]\n",
      "(RayTrainWorker pid=19220) loss: 1.298825  [19200/30000]\n",
      "(RayTrainWorker pid=19219) loss: 1.183802  [22400/30000]\n",
      "(RayTrainWorker pid=19220) loss: 1.364168  [22400/30000]\n",
      "(RayTrainWorker pid=19219) loss: 1.401676  [25600/30000]\n",
      "(RayTrainWorker pid=19220) loss: 1.230314  [25600/30000]\n",
      "(RayTrainWorker pid=19219) loss: 1.235191  [28800/30000]\n",
      "(RayTrainWorker pid=19220) loss: 1.182981  [28800/30000]\n",
      "(RayTrainWorker pid=19219) Done!\n",
      "(RayTrainWorker pid=19220) Done!\n"
     ]
    },
    {
     "name": "stderr",
     "output_type": "stream",
     "text": [
      "2022-12-18 19:15:57,881\tINFO tune.py:762 -- Total run time: 56.07 seconds (55.95 seconds for the tuning loop).\n"
     ]
    },
    {
     "name": "stdout",
     "output_type": "stream",
     "text": [
      "Last result: {'loss': 1.2252038834960597, '_timestamp': 1671419755, '_time_this_iter_s': 10.69528341293335, '_training_iteration': 4, 'time_this_iter_s': 10.697039604187012, 'should_checkpoint': True, 'done': True, 'timesteps_total': None, 'episodes_total': None, 'training_iteration': 4, 'trial_id': '537a4_00000', 'experiment_id': '3e7c1fa2a8ea49b78d04719cf428ef98', 'date': '2022-12-18_19-15-55', 'timestamp': 1671419755, 'time_total_s': 46.9072630405426, 'pid': 19159, 'hostname': 'ip-10-0-0-201', 'node_ip': '10.0.0.201', 'config': {}, 'time_since_restore': 46.9072630405426, 'timesteps_since_restore': 0, 'iterations_since_restore': 4, 'warmup_time': 0.8089592456817627, 'experiment_tag': '0'}\n"
     ]
    }
   ],
   "source": [
    "from ray.train.torch import TorchTrainer\n",
    "from ray.air.config import ScalingConfig\n",
    "\n",
    "\n",
    "trainer = TorchTrainer(\n",
    "    train_loop_per_worker=train_func,\n",
    "    train_loop_config={\"lr\": 1e-3, \"batch_size\": 64, \"epochs\": 4},\n",
    "    scaling_config=ScalingConfig(num_workers=2, use_gpu=False),\n",
    ")\n",
    "result = trainer.fit()\n",
    "print(f\"Last result: {result.metrics}\")"
   ]
  },
  {
   "cell_type": "code",
   "execution_count": 58,
   "id": "c4c7e442",
   "metadata": {},
   "outputs": [
    {
     "name": "stdout",
     "output_type": "stream",
     "text": [
      "<class 'ray.air.result.Result'>\n",
      "Checkpoint: TorchCheckpoint(local_path=/home/ray/ray_results/TorchTrainer_2022-12-18_19-19-40/TorchTrainer_f9dcf_00000_0_2022-12-18_19-19-41/checkpoint_000003)\n"
     ]
    }
   ],
   "source": [
    "print(type(result))\n",
    "print(f\"Checkpoint: {result.checkpoint}\")"
   ]
  },
  {
   "cell_type": "markdown",
   "id": "77a78dd3",
   "metadata": {},
   "source": [
    "# Move data loading into train_func"
   ]
  },
  {
   "cell_type": "code",
   "execution_count": 43,
   "id": "16191c01",
   "metadata": {},
   "outputs": [],
   "source": [
    "from ray.air import Checkpoint\n",
    "\n",
    "def load_data():\n",
    "    # Download training data from open datasets.\n",
    "    training_data = datasets.FashionMNIST(\n",
    "        root=\"data\",\n",
    "        train=True,\n",
    "        download=True,\n",
    "        transform=ToTensor(),\n",
    "    )\n",
    "\n",
    "    # Download test data from open datasets.\n",
    "    test_data = datasets.FashionMNIST(\n",
    "        root=\"data\",\n",
    "        train=False,\n",
    "        download=True,\n",
    "        transform=ToTensor(),\n",
    "    )\n",
    "    return training_data, test_data\n",
    "\n",
    "\n",
    "def train_load_func(config: dict):\n",
    "    batch_size = config[\"batch_size\"]\n",
    "    lr = config[\"lr\"]\n",
    "    epochs = config[\"epochs\"]\n",
    "    \n",
    "    batch_size_per_worker = batch_size // session.get_world_size()\n",
    "    \n",
    "    training_data, test_data = load_data()  # <- this is new!\n",
    "    \n",
    "    # Create data loaders.\n",
    "    train_dataloader = DataLoader(training_data, batch_size=batch_size_per_worker)\n",
    "    test_dataloader = DataLoader(test_data, batch_size=batch_size_per_worker)\n",
    "    \n",
    "    train_dataloader = train.torch.prepare_data_loader(train_dataloader)\n",
    "    test_dataloader = train.torch.prepare_data_loader(test_dataloader)\n",
    "    \n",
    "    model = NeuralNetwork()\n",
    "    model = train.torch.prepare_model(model)\n",
    "    \n",
    "    loss_fn = nn.CrossEntropyLoss()\n",
    "    optimizer = torch.optim.SGD(model.parameters(), lr=lr)\n",
    "    \n",
    "    for t in range(epochs):\n",
    "        train_epoch(train_dataloader, model, loss_fn, optimizer)\n",
    "        test_loss = test_epoch(test_dataloader, model, loss_fn)\n",
    "        checkpoint = Checkpoint.from_dict(\n",
    "            dict(epoch=t, model=model.module.state_dict())\n",
    "        )\n",
    "        session.report(dict(loss=test_loss), checkpoint=checkpoint)\n",
    "\n",
    "    print(\"Done!\")"
   ]
  },
  {
   "cell_type": "code",
   "execution_count": 44,
   "id": "06b059eb",
   "metadata": {
    "scrolled": true
   },
   "outputs": [
    {
     "data": {
      "text/html": [
       "<div class=\"tuneStatus\">\n",
       "  <div style=\"display: flex;flex-direction: row\">\n",
       "    <div style=\"display: flex;flex-direction: column;\">\n",
       "      <h3>Tune Status</h3>\n",
       "      <table>\n",
       "<tbody>\n",
       "<tr><td>Current time:</td><td>2022-12-18 19:20:43</td></tr>\n",
       "<tr><td>Running for: </td><td>00:01:02.09        </td></tr>\n",
       "<tr><td>Memory:      </td><td>3.2/30.9 GiB       </td></tr>\n",
       "</tbody>\n",
       "</table>\n",
       "    </div>\n",
       "    <div class=\"vDivider\"></div>\n",
       "    <div class=\"systemInfo\">\n",
       "      <h3>System Info</h3>\n",
       "      Using FIFO scheduling algorithm.<br>Resources requested: 0/8 CPUs, 0/0 GPUs, 0.0/16.91 GiB heap, 0.0/8.45 GiB objects\n",
       "    </div>\n",
       "    \n",
       "  </div>\n",
       "  <div class=\"hDivider\"></div>\n",
       "  <div class=\"trialStatus\">\n",
       "    <h3>Trial Status</h3>\n",
       "    <table>\n",
       "<thead>\n",
       "<tr><th>Trial name              </th><th>status    </th><th>loc             </th><th style=\"text-align: right;\">  iter</th><th style=\"text-align: right;\">  total time (s)</th><th style=\"text-align: right;\">   loss</th><th style=\"text-align: right;\">  _timestamp</th><th style=\"text-align: right;\">  _time_this_iter_s</th></tr>\n",
       "</thead>\n",
       "<tbody>\n",
       "<tr><td>TorchTrainer_f9dcf_00000</td><td>TERMINATED</td><td>10.0.0.201:20312</td><td style=\"text-align: right;\">     4</td><td style=\"text-align: right;\">         53.4951</td><td style=\"text-align: right;\">1.22565</td><td style=\"text-align: right;\">  1671420040</td><td style=\"text-align: right;\">            9.48647</td></tr>\n",
       "</tbody>\n",
       "</table>\n",
       "  </div>\n",
       "</div>\n",
       "<style>\n",
       ".tuneStatus {\n",
       "  color: var(--jp-ui-font-color1);\n",
       "}\n",
       ".tuneStatus .systemInfo {\n",
       "  display: flex;\n",
       "  flex-direction: column;\n",
       "}\n",
       ".tuneStatus td {\n",
       "  white-space: nowrap;\n",
       "}\n",
       ".tuneStatus .trialStatus {\n",
       "  display: flex;\n",
       "  flex-direction: column;\n",
       "}\n",
       ".tuneStatus h3 {\n",
       "  font-weight: bold;\n",
       "}\n",
       ".tuneStatus .hDivider {\n",
       "  border-bottom-width: var(--jp-border-width);\n",
       "  border-bottom-color: var(--jp-border-color0);\n",
       "  border-bottom-style: solid;\n",
       "}\n",
       ".tuneStatus .vDivider {\n",
       "  border-left-width: var(--jp-border-width);\n",
       "  border-left-color: var(--jp-border-color0);\n",
       "  border-left-style: solid;\n",
       "  margin: 0.5em 1em 0.5em 1em;\n",
       "}\n",
       "</style>\n"
      ],
      "text/plain": [
       "<IPython.core.display.HTML object>"
      ]
     },
     "metadata": {},
     "output_type": "display_data"
    },
    {
     "name": "stderr",
     "output_type": "stream",
     "text": [
      "(RayTrainWorker pid=20368) 2022-12-18 19:19:51,014\tINFO config.py:86 -- Setting up process group for: env:// [rank=0, world_size=2]\n"
     ]
    },
    {
     "name": "stdout",
     "output_type": "stream",
     "text": [
      "(RayTrainWorker pid=20368) Downloading http://fashion-mnist.s3-website.eu-central-1.amazonaws.com/train-images-idx3-ubyte.gz\n",
      "(RayTrainWorker pid=20369) Downloading http://fashion-mnist.s3-website.eu-central-1.amazonaws.com/train-images-idx3-ubyte.gz\n",
      "(RayTrainWorker pid=20368) Downloading http://fashion-mnist.s3-website.eu-central-1.amazonaws.com/train-images-idx3-ubyte.gz to data/FashionMNIST/raw/train-images-idx3-ubyte.gz\n",
      "(RayTrainWorker pid=20369) Downloading http://fashion-mnist.s3-website.eu-central-1.amazonaws.com/train-images-idx3-ubyte.gz to data/FashionMNIST/raw/train-images-idx3-ubyte.gz\n"
     ]
    },
    {
     "name": "stderr",
     "output_type": "stream",
     "text": [
      "  0%|          | 0/26421880 [00:00<?, ?it/s]\n",
      "  0%|          | 0/26421880 [00:00<?, ?it/s]\n",
      "  0%|          | 32768/26421880 [00:00<01:51, 236843.25it/s]\n",
      "  0%|          | 32768/26421880 [00:00<01:52, 235550.41it/s]\n",
      "  0%|          | 65536/26421880 [00:00<01:51, 235408.13it/s]\n",
      "  0%|          | 65536/26421880 [00:00<01:52, 234109.76it/s]\n",
      "  0%|          | 98304/26421880 [00:00<01:51, 235134.97it/s]\n",
      "  0%|          | 131072/26421880 [00:00<01:17, 340459.61it/s]\n",
      "  1%|          | 229376/26421880 [00:00<00:54, 482913.50it/s]\n",
      "  1%|          | 229376/26421880 [00:00<00:51, 513064.01it/s]\n",
      "  2%|▏         | 458752/26421880 [00:00<00:28, 920375.09it/s]\n",
      "  2%|▏         | 458752/26421880 [00:00<00:28, 898286.99it/s]\n",
      "  3%|▎         | 917504/26421880 [00:00<00:14, 1724322.16it/s]\n",
      "  4%|▎         | 950272/26421880 [00:00<00:14, 1783198.21it/s]\n",
      "  7%|▋         | 1867776/26421880 [00:00<00:07, 3337578.77it/s]\n",
      "  7%|▋         | 1835008/26421880 [00:00<00:07, 3307761.24it/s]\n",
      " 13%|█▎        | 3407872/26421880 [00:01<00:03, 5839537.52it/s]\n",
      " 13%|█▎        | 3440640/26421880 [00:01<00:03, 5841966.26it/s]\n",
      " 19%|█▉        | 5013504/26421880 [00:01<00:02, 7601090.02it/s]\n",
      " 19%|█▉        | 5046272/26421880 [00:01<00:02, 7581309.99it/s]\n",
      " 25%|██▍       | 6586368/26421880 [00:01<00:02, 8728463.65it/s]\n",
      " 25%|██▌       | 6619136/26421880 [00:01<00:02, 8691327.66it/s]\n",
      " 31%|███       | 8159232/26421880 [00:01<00:01, 9496912.13it/s]\n",
      " 31%|███       | 8192000/26421880 [00:01<00:01, 9453607.14it/s]\n",
      " 37%|███▋      | 9732096/26421880 [00:01<00:01, 10030364.21it/s]\n",
      " 37%|███▋      | 9764864/26421880 [00:01<00:01, 9982239.00it/s]\n",
      " 43%|████▎     | 11337728/26421880 [00:01<00:01, 10469579.57it/s]\n",
      " 43%|████▎     | 11337728/26421880 [00:01<00:01, 10377385.71it/s]\n",
      " 49%|████▉     | 12910592/26421880 [00:01<00:01, 10707640.86it/s]\n",
      " 49%|████▉     | 12943360/26421880 [00:01<00:01, 10649323.60it/s]\n",
      " 55%|█████▍    | 14483456/26421880 [00:02<00:01, 10869379.31it/s]\n",
      " 55%|█████▍    | 14516224/26421880 [00:02<00:01, 10810159.25it/s]\n",
      " 61%|██████    | 16056320/26421880 [00:02<00:00, 10986695.81it/s]\n",
      " 61%|██████    | 16089088/26421880 [00:02<00:00, 10924276.57it/s]\n",
      " 67%|██████▋   | 17661952/26421880 [00:02<00:00, 11127276.30it/s]\n",
      " 67%|██████▋   | 17661952/26421880 [00:02<00:00, 10999794.66it/s]\n",
      " 73%|███████▎  | 19234816/26421880 [00:02<00:00, 11122301.23it/s]\n",
      " 73%|███████▎  | 19234816/26421880 [00:02<00:00, 11161969.96it/s]\n",
      " 79%|███████▉  | 20807680/26421880 [00:02<00:00, 11187916.56it/s]\n",
      " 79%|███████▉  | 20840448/26421880 [00:02<00:00, 11149450.72it/s]\n",
      " 85%|████████▍ | 22380544/26421880 [00:02<00:00, 11216126.11it/s]\n",
      " 85%|████████▍ | 22413312/26421880 [00:02<00:00, 11160360.79it/s]\n",
      " 91%|█████████ | 23986176/26421880 [00:02<00:00, 11282930.01it/s]\n",
      " 91%|█████████ | 23986176/26421880 [00:02<00:00, 11173625.49it/s]\n",
      "100%|██████████| 26421880/26421880 [00:03<00:00, 8587141.45it/s] \n",
      "100%|██████████| 26421880/26421880 [00:03<00:00, 8537049.69it/s] \n"
     ]
    },
    {
     "name": "stdout",
     "output_type": "stream",
     "text": [
      "(RayTrainWorker pid=20368) Extracting data/FashionMNIST/raw/train-images-idx3-ubyte.gz to data/FashionMNIST/raw\n",
      "(RayTrainWorker pid=20369) Extracting data/FashionMNIST/raw/train-images-idx3-ubyte.gz to data/FashionMNIST/raw\n",
      "(RayTrainWorker pid=20368) \n",
      "(RayTrainWorker pid=20368) Downloading http://fashion-mnist.s3-website.eu-central-1.amazonaws.com/train-labels-idx1-ubyte.gz\n",
      "(RayTrainWorker pid=20369) \n",
      "(RayTrainWorker pid=20369) Downloading http://fashion-mnist.s3-website.eu-central-1.amazonaws.com/train-labels-idx1-ubyte.gz\n",
      "(RayTrainWorker pid=20368) Downloading http://fashion-mnist.s3-website.eu-central-1.amazonaws.com/train-labels-idx1-ubyte.gz to data/FashionMNIST/raw/train-labels-idx1-ubyte.gz\n",
      "(RayTrainWorker pid=20369) Downloading http://fashion-mnist.s3-website.eu-central-1.amazonaws.com/train-labels-idx1-ubyte.gz to data/FashionMNIST/raw/train-labels-idx1-ubyte.gz\n"
     ]
    },
    {
     "name": "stderr",
     "output_type": "stream",
     "text": [
      "  0%|          | 0/29515 [00:00<?, ?it/s]\n",
      "  0%|          | 0/29515 [00:00<?, ?it/s]\n",
      "100%|██████████| 29515/29515 [00:00<00:00, 208105.84it/s]\n",
      "100%|██████████| 29515/29515 [00:00<00:00, 206245.06it/s]\n"
     ]
    },
    {
     "name": "stdout",
     "output_type": "stream",
     "text": [
      "(RayTrainWorker pid=20368) Extracting data/FashionMNIST/raw/train-labels-idx1-ubyte.gz to data/FashionMNIST/raw\n",
      "(RayTrainWorker pid=20368) \n",
      "(RayTrainWorker pid=20368) Downloading http://fashion-mnist.s3-website.eu-central-1.amazonaws.com/t10k-images-idx3-ubyte.gz\n",
      "(RayTrainWorker pid=20369) Extracting data/FashionMNIST/raw/train-labels-idx1-ubyte.gz to data/FashionMNIST/raw\n",
      "(RayTrainWorker pid=20369) \n",
      "(RayTrainWorker pid=20369) Downloading http://fashion-mnist.s3-website.eu-central-1.amazonaws.com/t10k-images-idx3-ubyte.gz\n",
      "(RayTrainWorker pid=20368) Downloading http://fashion-mnist.s3-website.eu-central-1.amazonaws.com/t10k-images-idx3-ubyte.gz to data/FashionMNIST/raw/t10k-images-idx3-ubyte.gz\n",
      "(RayTrainWorker pid=20369) Downloading http://fashion-mnist.s3-website.eu-central-1.amazonaws.com/t10k-images-idx3-ubyte.gz to data/FashionMNIST/raw/t10k-images-idx3-ubyte.gz\n"
     ]
    },
    {
     "name": "stderr",
     "output_type": "stream",
     "text": [
      "  0%|          | 0/4422102 [00:00<?, ?it/s]\n",
      "  0%|          | 0/4422102 [00:00<?, ?it/s]\n",
      "  1%|          | 32768/4422102 [00:00<00:18, 235916.73it/s]\n",
      "  1%|          | 32768/4422102 [00:00<00:18, 236193.23it/s]\n",
      "  1%|▏         | 65536/4422102 [00:00<00:18, 235479.71it/s]\n",
      "  1%|▏         | 65536/4422102 [00:00<00:18, 235923.50it/s]\n",
      "  3%|▎         | 131072/4422102 [00:00<00:12, 342576.46it/s]\n",
      "  3%|▎         | 131072/4422102 [00:00<00:12, 343373.71it/s]\n",
      "  5%|▌         | 229376/4422102 [00:00<00:08, 486364.36it/s]\n",
      "  5%|▌         | 229376/4422102 [00:00<00:08, 486817.03it/s]\n",
      " 10%|█         | 458752/4422102 [00:00<00:04, 905047.10it/s]\n",
      " 10%|█         | 458752/4422102 [00:00<00:04, 906469.28it/s]\n",
      " 21%|██        | 917504/4422102 [00:00<00:02, 1717383.94it/s]\n",
      " 21%|██▏       | 950272/4422102 [00:00<00:01, 1798667.18it/s]\n",
      " 42%|████▏     | 1867776/4422102 [00:00<00:00, 3384279.81it/s]\n",
      " 42%|████▏     | 1867776/4422102 [00:00<00:00, 3369805.44it/s]\n",
      "100%|██████████| 4422102/4422102 [00:01<00:00, 3959696.92it/s]\n"
     ]
    },
    {
     "name": "stdout",
     "output_type": "stream",
     "text": [
      "(RayTrainWorker pid=20368) Extracting data/FashionMNIST/raw/t10k-images-idx3-ubyte.gz to data/FashionMNIST/raw\n"
     ]
    },
    {
     "name": "stderr",
     "output_type": "stream",
     "text": [
      "100%|██████████| 4422102/4422102 [00:01<00:00, 3963189.59it/s]\n"
     ]
    },
    {
     "name": "stdout",
     "output_type": "stream",
     "text": [
      "(RayTrainWorker pid=20368) \n",
      "(RayTrainWorker pid=20368) Downloading http://fashion-mnist.s3-website.eu-central-1.amazonaws.com/t10k-labels-idx1-ubyte.gz\n",
      "(RayTrainWorker pid=20369) Extracting data/FashionMNIST/raw/t10k-images-idx3-ubyte.gz to data/FashionMNIST/raw\n",
      "(RayTrainWorker pid=20369) \n",
      "(RayTrainWorker pid=20369) Downloading http://fashion-mnist.s3-website.eu-central-1.amazonaws.com/t10k-labels-idx1-ubyte.gz\n",
      "(RayTrainWorker pid=20368) Downloading http://fashion-mnist.s3-website.eu-central-1.amazonaws.com/t10k-labels-idx1-ubyte.gz to data/FashionMNIST/raw/t10k-labels-idx1-ubyte.gz\n",
      "(RayTrainWorker pid=20369) Downloading http://fashion-mnist.s3-website.eu-central-1.amazonaws.com/t10k-labels-idx1-ubyte.gz to data/FashionMNIST/raw/t10k-labels-idx1-ubyte.gz\n"
     ]
    },
    {
     "name": "stderr",
     "output_type": "stream",
     "text": [
      "100%|██████████| 5148/5148 [00:00<00:00, 39691685.65it/s]\n",
      "100%|██████████| 5148/5148 [00:00<00:00, 35166574.91it/s]\n"
     ]
    },
    {
     "name": "stdout",
     "output_type": "stream",
     "text": [
      "(RayTrainWorker pid=20368) Extracting data/FashionMNIST/raw/t10k-labels-idx1-ubyte.gz to data/FashionMNIST/raw\n",
      "(RayTrainWorker pid=20368) \n",
      "(RayTrainWorker pid=20369) Extracting data/FashionMNIST/raw/t10k-labels-idx1-ubyte.gz to data/FashionMNIST/raw\n",
      "(RayTrainWorker pid=20369) \n"
     ]
    },
    {
     "name": "stderr",
     "output_type": "stream",
     "text": [
      "(RayTrainWorker pid=20368) 2022-12-18 19:20:00,028\tINFO train_loop_utils.py:270 -- Moving model to device: cpu\n",
      "(RayTrainWorker pid=20368) 2022-12-18 19:20:00,028\tINFO train_loop_utils.py:330 -- Wrapping provided model in DistributedDataParallel.\n"
     ]
    },
    {
     "name": "stdout",
     "output_type": "stream",
     "text": [
      "(RayTrainWorker pid=20368) loss: 2.301111  [    0/30000]\n",
      "(RayTrainWorker pid=20369) loss: 2.287547  [    0/30000]\n",
      "(RayTrainWorker pid=20368) loss: 2.290906  [ 3200/30000]\n",
      "(RayTrainWorker pid=20369) loss: 2.288523  [ 3200/30000]\n",
      "(RayTrainWorker pid=20369) loss: 2.257152  [ 6400/30000]\n",
      "(RayTrainWorker pid=20368) loss: 2.264019  [ 6400/30000]\n",
      "(RayTrainWorker pid=20368) loss: 2.259223  [ 9600/30000]\n",
      "(RayTrainWorker pid=20369) loss: 2.264961  [ 9600/30000]\n",
      "(RayTrainWorker pid=20368) loss: 2.256486  [12800/30000]\n",
      "(RayTrainWorker pid=20369) loss: 2.240544  [12800/30000]\n",
      "(RayTrainWorker pid=20368) loss: 2.196257  [16000/30000]\n",
      "(RayTrainWorker pid=20369) loss: 2.202147  [16000/30000]\n",
      "(RayTrainWorker pid=20368) loss: 2.215132  [19200/30000]\n",
      "(RayTrainWorker pid=20369) loss: 2.224874  [19200/30000]\n",
      "(RayTrainWorker pid=20368) loss: 2.146052  [22400/30000]\n",
      "(RayTrainWorker pid=20369) loss: 2.199692  [22400/30000]\n",
      "(RayTrainWorker pid=20368) loss: 2.179719  [25600/30000]\n",
      "(RayTrainWorker pid=20369) loss: 2.148441  [25600/30000]\n",
      "(RayTrainWorker pid=20368) loss: 2.131095  [28800/30000]\n",
      "(RayTrainWorker pid=20369) loss: 2.154849  [28800/30000]\n"
     ]
    },
    {
     "data": {
      "text/html": [
       "<div class=\"trialProgress\">\n",
       "  <h3>Trial Progress</h3>\n",
       "  <table>\n",
       "<thead>\n",
       "<tr><th>Trial name              </th><th style=\"text-align: right;\">  _time_this_iter_s</th><th style=\"text-align: right;\">  _timestamp</th><th style=\"text-align: right;\">  _training_iteration</th><th>date               </th><th>done  </th><th>episodes_total  </th><th>experiment_id                   </th><th style=\"text-align: right;\">  experiment_tag</th><th>hostname     </th><th style=\"text-align: right;\">  iterations_since_restore</th><th style=\"text-align: right;\">   loss</th><th>node_ip   </th><th style=\"text-align: right;\">  pid</th><th>should_checkpoint  </th><th style=\"text-align: right;\">  time_since_restore</th><th style=\"text-align: right;\">  time_this_iter_s</th><th style=\"text-align: right;\">  time_total_s</th><th style=\"text-align: right;\">  timestamp</th><th style=\"text-align: right;\">  timesteps_since_restore</th><th>timesteps_total  </th><th style=\"text-align: right;\">  training_iteration</th><th>trial_id   </th><th style=\"text-align: right;\">  warmup_time</th></tr>\n",
       "</thead>\n",
       "<tbody>\n",
       "<tr><td>TorchTrainer_f9dcf_00000</td><td style=\"text-align: right;\">            9.48647</td><td style=\"text-align: right;\">  1671420040</td><td style=\"text-align: right;\">                    4</td><td>2022-12-18_19-20-40</td><td>True  </td><td>                </td><td>c0afd5f50d614603acd7d62c4ac257f1</td><td style=\"text-align: right;\">               0</td><td>ip-10-0-0-201</td><td style=\"text-align: right;\">                         4</td><td style=\"text-align: right;\">1.22565</td><td>10.0.0.201</td><td style=\"text-align: right;\">20312</td><td>True               </td><td style=\"text-align: right;\">             53.4951</td><td style=\"text-align: right;\">           9.45747</td><td style=\"text-align: right;\">       53.4951</td><td style=\"text-align: right;\"> 1671420040</td><td style=\"text-align: right;\">                        0</td><td>                 </td><td style=\"text-align: right;\">                   4</td><td>f9dcf_00000</td><td style=\"text-align: right;\">     0.551347</td></tr>\n",
       "</tbody>\n",
       "</table>\n",
       "</div>\n",
       "<style>\n",
       ".trialProgress {\n",
       "  display: flex;\n",
       "  flex-direction: column;\n",
       "  color: var(--jp-ui-font-color1);\n",
       "}\n",
       ".trialProgress h3 {\n",
       "  font-weight: bold;\n",
       "}\n",
       ".trialProgress td {\n",
       "  white-space: nowrap;\n",
       "}\n",
       "</style>\n"
      ],
      "text/plain": [
       "<IPython.core.display.HTML object>"
      ]
     },
     "metadata": {},
     "output_type": "display_data"
    },
    {
     "name": "stdout",
     "output_type": "stream",
     "text": [
      "(RayTrainWorker pid=20368) loss: 2.163013  [    0/30000]\n",
      "(RayTrainWorker pid=20369) loss: 2.117441  [    0/30000]\n",
      "(RayTrainWorker pid=20368) loss: 2.166237  [ 3200/30000]\n",
      "(RayTrainWorker pid=20369) loss: 2.116500  [ 3200/30000]\n",
      "(RayTrainWorker pid=20368) loss: 2.061838  [ 6400/30000]\n",
      "(RayTrainWorker pid=20369) loss: 2.077756  [ 6400/30000]\n",
      "(RayTrainWorker pid=20368) loss: 2.090693  [ 9600/30000]\n",
      "(RayTrainWorker pid=20369) loss: 2.096717  [ 9600/30000]\n",
      "(RayTrainWorker pid=20368) loss: 2.069101  [12800/30000]\n",
      "(RayTrainWorker pid=20369) loss: 2.028642  [12800/30000]\n",
      "(RayTrainWorker pid=20368) loss: 1.959103  [16000/30000]\n",
      "(RayTrainWorker pid=20369) loss: 1.981701  [16000/30000]\n",
      "(RayTrainWorker pid=20368) loss: 2.017103  [19200/30000]\n",
      "(RayTrainWorker pid=20369) loss: 1.999470  [19200/30000]\n",
      "(RayTrainWorker pid=20368) loss: 1.854572  [22400/30000]\n",
      "(RayTrainWorker pid=20369) loss: 1.981408  [22400/30000]\n",
      "(RayTrainWorker pid=20368) loss: 1.944194  [25600/30000]\n",
      "(RayTrainWorker pid=20369) loss: 1.882136  [25600/30000]\n",
      "(RayTrainWorker pid=20368) loss: 1.847327  [28800/30000]\n",
      "(RayTrainWorker pid=20369) loss: 1.864915  [28800/30000]\n",
      "(RayTrainWorker pid=20368) loss: 1.901682  [    0/30000]\n",
      "(RayTrainWorker pid=20369) loss: 1.863935  [    0/30000]\n",
      "(RayTrainWorker pid=20368) loss: 1.904461  [ 3200/30000]\n",
      "(RayTrainWorker pid=20369) loss: 1.827944  [ 3200/30000]\n",
      "(RayTrainWorker pid=20368) loss: 1.679938  [ 6400/30000]\n",
      "(RayTrainWorker pid=20369) loss: 1.781247  [ 6400/30000]\n",
      "(RayTrainWorker pid=20368) loss: 1.792392  [ 9600/30000]\n",
      "(RayTrainWorker pid=20369) loss: 1.761952  [ 9600/30000]\n",
      "(RayTrainWorker pid=20368) loss: 1.684242  [12800/30000]\n",
      "(RayTrainWorker pid=20369) loss: 1.667903  [12800/30000]\n",
      "(RayTrainWorker pid=20368) loss: 1.611441  [16000/30000]\n",
      "(RayTrainWorker pid=20369) loss: 1.638038  [16000/30000]\n",
      "(RayTrainWorker pid=20368) loss: 1.692598  [19200/30000]\n",
      "(RayTrainWorker pid=20369) loss: 1.602412  [19200/30000]\n",
      "(RayTrainWorker pid=20368) loss: 1.446691  [22400/30000]\n",
      "(RayTrainWorker pid=20369) loss: 1.648392  [22400/30000]\n",
      "(RayTrainWorker pid=20368) loss: 1.623404  [25600/30000]\n",
      "(RayTrainWorker pid=20369) loss: 1.514078  [25600/30000]\n",
      "(RayTrainWorker pid=20368) loss: 1.480385  [28800/30000]\n",
      "(RayTrainWorker pid=20369) loss: 1.460948  [28800/30000]\n",
      "(RayTrainWorker pid=20368) loss: 1.563407  [    0/30000]\n",
      "(RayTrainWorker pid=20369) loss: 1.556829  [    0/30000]\n",
      "(RayTrainWorker pid=20368) loss: 1.578099  [ 3200/30000]\n",
      "(RayTrainWorker pid=20369) loss: 1.489220  [ 3200/30000]\n",
      "(RayTrainWorker pid=20368) loss: 1.287003  [ 6400/30000]\n",
      "(RayTrainWorker pid=20369) loss: 1.447982  [ 6400/30000]\n",
      "(RayTrainWorker pid=20368) loss: 1.473871  [ 9600/30000]\n",
      "(RayTrainWorker pid=20369) loss: 1.423223  [ 9600/30000]\n",
      "(RayTrainWorker pid=20368) loss: 1.318485  [12800/30000]\n",
      "(RayTrainWorker pid=20369) loss: 1.338665  [12800/30000]\n",
      "(RayTrainWorker pid=20368) loss: 1.331233  [16000/30000]\n",
      "(RayTrainWorker pid=20369) loss: 1.331971  [16000/30000]\n",
      "(RayTrainWorker pid=20368) loss: 1.396032  [19200/30000]\n",
      "(RayTrainWorker pid=20369) loss: 1.295737  [19200/30000]\n",
      "(RayTrainWorker pid=20368) loss: 1.181520  [22400/30000]\n",
      "(RayTrainWorker pid=20369) loss: 1.359193  [22400/30000]\n",
      "(RayTrainWorker pid=20368) loss: 1.389621  [25600/30000]\n",
      "(RayTrainWorker pid=20369) loss: 1.222483  [25600/30000]\n",
      "(RayTrainWorker pid=20368) loss: 1.223076  [28800/30000]\n",
      "(RayTrainWorker pid=20369) loss: 1.195500  [28800/30000]\n",
      "(RayTrainWorker pid=20368) Done!\n",
      "(RayTrainWorker pid=20369) Done!\n"
     ]
    },
    {
     "name": "stderr",
     "output_type": "stream",
     "text": [
      "2022-12-18 19:20:43,164\tINFO tune.py:762 -- Total run time: 62.21 seconds (62.09 seconds for the tuning loop).\n"
     ]
    },
    {
     "name": "stdout",
     "output_type": "stream",
     "text": [
      "Last result: {'loss': 1.2256454950684954, '_timestamp': 1671420040, '_time_this_iter_s': 9.48647141456604, '_training_iteration': 4, 'time_this_iter_s': 9.45746922492981, 'should_checkpoint': True, 'done': True, 'timesteps_total': None, 'episodes_total': None, 'training_iteration': 4, 'trial_id': 'f9dcf_00000', 'experiment_id': 'c0afd5f50d614603acd7d62c4ac257f1', 'date': '2022-12-18_19-20-40', 'timestamp': 1671420040, 'time_total_s': 53.49507689476013, 'pid': 20312, 'hostname': 'ip-10-0-0-201', 'node_ip': '10.0.0.201', 'config': {}, 'time_since_restore': 53.49507689476013, 'timesteps_since_restore': 0, 'iterations_since_restore': 4, 'warmup_time': 0.5513465404510498, 'experiment_tag': '0'}\n",
      "Checkpoint: TorchCheckpoint(local_path=/home/ray/ray_results/TorchTrainer_2022-12-18_19-19-40/TorchTrainer_f9dcf_00000_0_2022-12-18_19-19-41/checkpoint_000003)\n"
     ]
    }
   ],
   "source": [
    "trainer = TorchTrainer(\n",
    "    train_loop_per_worker=train_load_func,\n",
    "    train_loop_config={\"lr\": 1e-3, \"batch_size\": 64, \"epochs\": 4},\n",
    "    scaling_config=ScalingConfig(num_workers=2, use_gpu=False),\n",
    ")\n",
    "result = trainer.fit()\n",
    "\n",
    "print(f\"Last result: {result.metrics}\")\n",
    "print(f\"Checkpoint: {result.checkpoint}\")"
   ]
  },
  {
   "cell_type": "markdown",
   "id": "2a283138",
   "metadata": {},
   "source": [
    "# Loading the model for prediction"
   ]
  },
  {
   "cell_type": "code",
   "execution_count": 48,
   "id": "7adde3dc",
   "metadata": {},
   "outputs": [],
   "source": [
    "classes = [\n",
    "    \"T-shirt/top\",\n",
    "    \"Trouser\",\n",
    "    \"Pullover\",\n",
    "    \"Dress\",\n",
    "    \"Coat\",\n",
    "    \"Sandal\",\n",
    "    \"Shirt\",\n",
    "    \"Sneaker\",\n",
    "    \"Bag\",\n",
    "    \"Ankle boot\",\n",
    "]\n",
    "\n",
    "def predict_from_model(model, data):\n",
    "    model.eval()\n",
    "    with torch.no_grad():\n",
    "        for x, y in data:\n",
    "            pred = model(x)\n",
    "            predicted, actual = classes[pred[0].argmax(0)], classes[y]\n",
    "            print(f'Predicted: \"{predicted}\", Actual: \"{actual}\"')\n"
   ]
  },
  {
   "cell_type": "code",
   "execution_count": 49,
   "id": "f15a7cc6",
   "metadata": {},
   "outputs": [
    {
     "name": "stdout",
     "output_type": "stream",
     "text": [
      "Predicted: \"Ankle boot\", Actual: \"Ankle boot\"\n",
      "Predicted: \"Pullover\", Actual: \"Pullover\"\n",
      "Predicted: \"Trouser\", Actual: \"Trouser\"\n",
      "Predicted: \"Trouser\", Actual: \"Trouser\"\n",
      "Predicted: \"Pullover\", Actual: \"Shirt\"\n",
      "Predicted: \"Trouser\", Actual: \"Trouser\"\n",
      "Predicted: \"Coat\", Actual: \"Coat\"\n",
      "Predicted: \"Coat\", Actual: \"Shirt\"\n",
      "Predicted: \"Sneaker\", Actual: \"Sandal\"\n",
      "Predicted: \"Sneaker\", Actual: \"Sneaker\"\n"
     ]
    }
   ],
   "source": [
    "from ray.train.torch import TorchCheckpoint\n",
    "\n",
    "model = TorchCheckpoint.from_checkpoint(result.checkpoint).get_model(NeuralNetwork())\n",
    "\n",
    "predict_from_model(model, [test_data[i] for i in range(10)])"
   ]
  },
  {
   "cell_type": "markdown",
   "id": "ffdfaf5c",
   "metadata": {},
   "source": [
    "# Predictor"
   ]
  },
  {
   "cell_type": "code",
   "execution_count": 66,
   "id": "be1fee3c",
   "metadata": {},
   "outputs": [],
   "source": [
    "from ray.train.torch import TorchPredictor\n",
    "\n",
    "torch_predictor = TorchPredictor.from_checkpoint(result.checkpoint, model=NeuralNetwork())"
   ]
  },
  {
   "cell_type": "code",
   "execution_count": 79,
   "id": "691316c9",
   "metadata": {},
   "outputs": [
    {
     "data": {
      "text/plain": [
       "9"
      ]
     },
     "execution_count": 79,
     "metadata": {},
     "output_type": "execute_result"
    }
   ],
   "source": [
    "X, y = test_data[0]\n",
    "pred = torch_predictor.predict(X.numpy())\n",
    "#len(pred['predictions']) = 1\n",
    "#len(pred['predictions'][0]) = num of classes\n",
    "pred['predictions'][0].argmax()"
   ]
  },
  {
   "cell_type": "markdown",
   "id": "53929e5d",
   "metadata": {},
   "source": [
    "# Batch Prediction"
   ]
  },
  {
   "cell_type": "code",
   "execution_count": 50,
   "id": "68331fcc",
   "metadata": {},
   "outputs": [],
   "source": [
    "from ray.train.batch_predictor import BatchPredictor\n",
    "\n",
    "batch_predictor = BatchPredictor.from_checkpoint(result.checkpoint, TorchPredictor, model=NeuralNetwork())"
   ]
  },
  {
   "cell_type": "code",
   "execution_count": 51,
   "id": "94488a5a",
   "metadata": {},
   "outputs": [],
   "source": [
    "import ray.data\n",
    "\n",
    "ds = ray.data.from_items([x.numpy() for x, y in test_data], parallelism=8)"
   ]
  },
  {
   "cell_type": "code",
   "execution_count": 52,
   "id": "3fc5630b",
   "metadata": {},
   "outputs": [
    {
     "name": "stderr",
     "output_type": "stream",
     "text": [
      "Map Progress (2 actors 1 pending): 100%|██████████| 8/8 [00:05<00:00,  1.36it/s]\n"
     ]
    }
   ],
   "source": [
    "results = batch_predictor.predict(ds, batch_size=32, min_scoring_workers=2)"
   ]
  },
  {
   "cell_type": "code",
   "execution_count": 53,
   "id": "aee46eff",
   "metadata": {
    "scrolled": true
   },
   "outputs": [
    {
     "name": "stdout",
     "output_type": "stream",
     "text": [
      "{'predictions': array([-1.2659273 , -1.9728076 , -0.47294343, -1.4067363 , -0.54722816,\n",
      "        1.4815099 , -0.5460603 ,  1.9433444 ,  1.4214759 ,  2.3140082 ],\n",
      "      dtype=float32)}\n",
      "{'predictions': array([ 0.90613997, -2.3244176 ,  3.0169926 , -0.8443391 ,  2.6863618 ,\n",
      "       -1.4803131 ,  2.2586493 , -2.4865446 ,  1.3047663 , -1.1552725 ],\n",
      "      dtype=float32)}\n",
      "{'predictions': array([ 1.9848795 ,  3.9836159 , -0.0767667 ,  2.9862223 ,  0.81452185,\n",
      "       -2.2852166 ,  0.65543973, -2.976378  , -1.863825  , -2.6263735 ],\n",
      "      dtype=float32)}\n",
      "{'predictions': array([ 1.3361863 ,  3.1420417 , -0.18481702,  2.2959752 ,  0.43808815,\n",
      "       -1.5627369 ,  0.33526626, -2.1126003 , -1.4807713 , -1.8568392 ],\n",
      "      dtype=float32)}\n",
      "{'predictions': array([ 0.8119151 , -1.0520415 ,  1.2079775 , -0.14650142,  1.0830628 ,\n",
      "       -0.74526155,  1.1679947 , -1.3283877 ,  0.5627702 , -0.49579006],\n",
      "      dtype=float32)}\n",
      "{'predictions': array([ 2.0064857 ,  2.902035  ,  0.3147434 ,  2.3969293 ,  0.9864738 ,\n",
      "       -2.0992656 ,  0.87958217, -2.8527517 , -1.448252  , -2.4154267 ],\n",
      "      dtype=float32)}\n",
      "{'predictions': array([ 0.6219495 , -0.20193878,  0.69689083,  0.16765405,  0.8160937 ,\n",
      "       -0.6028559 ,  0.71659744, -1.0055869 ,  0.01055635, -0.8773837 ],\n",
      "      dtype=float32)}\n",
      "{'predictions': array([ 0.3448312 , -0.90972674,  1.2000906 , -0.28113395,  1.270729  ,\n",
      "       -0.6308726 ,  0.9822638 , -1.1542349 ,  0.5388379 , -0.71725917],\n",
      "      dtype=float32)}\n",
      "{'predictions': array([-0.35352662, -0.33501053, -0.17987856, -0.2623303 , -0.09434257,\n",
      "        0.40523994, -0.16888157,  0.62557113,  0.37104577,  0.13694815],\n",
      "      dtype=float32)}\n",
      "{'predictions': array([-1.002989  , -1.1758106 , -0.5200405 , -0.92680085, -0.3945165 ,\n",
      "        1.1614449 , -0.49412286,  1.8839974 ,  1.0016731 ,  0.9780352 ],\n",
      "      dtype=float32)}\n",
      "{'predictions': array([ 0.29604667, -1.0030637 ,  1.836796  , -0.4307354 ,  1.8665192 ,\n",
      "       -0.9715847 ,  1.3266258 , -1.5853539 ,  0.5320101 , -0.9996866 ],\n",
      "      dtype=float32)}\n",
      "{'predictions': array([-0.99354553, -1.602525  , -0.2606877 , -1.1242092 , -0.3516809 ,\n",
      "        1.175538  , -0.36814982,  1.5333687 ,  1.071856  ,  1.5914732 ],\n",
      "      dtype=float32)}\n",
      "{'predictions': array([-1.0184141 , -1.369201  , -0.25727475, -1.0289888 , -0.18452337,\n",
      "        1.0922555 , -0.31270164,  1.6129081 ,  1.2297642 ,  0.7479788 ],\n",
      "      dtype=float32)}\n",
      "{'predictions': array([ 1.4310895 ,  2.2171884 , -0.39980322,  2.4401546 ,  0.24580556,\n",
      "       -1.3445125 ,  0.3337171 , -1.7970791 , -1.0185997 , -1.3917191 ],\n",
      "      dtype=float32)}\n",
      "{'predictions': array([ 1.0182233 , -1.5758092 ,  2.4693167 , -0.13043675,  2.7077565 ,\n",
      "       -1.7539635 ,  2.2157307 , -2.777495  ,  1.1678219 , -1.5745701 ],\n",
      "      dtype=float32)}\n",
      "{'predictions': array([ 1.5552778 ,  3.0217543 , -0.07114875,  2.434862  ,  0.5463097 ,\n",
      "       -1.6894525 ,  0.48094827, -2.3164992 , -1.5061098 , -1.9426427 ],\n",
      "      dtype=float32)}\n",
      "{'predictions': array([ 0.7154625 , -0.7785518 ,  1.2508651 , -0.1748163 ,  1.0069492 ,\n",
      "       -0.71738005,  0.98954654, -1.2904634 ,  0.36205515, -0.6421946 ],\n",
      "      dtype=float32)}\n",
      "{'predictions': array([ 0.7958176 , -1.3230612 ,  1.8195946 , -0.3018948 ,  1.6725676 ,\n",
      "       -1.1045067 ,  1.5423079 , -1.8860967 ,  0.8992578 , -0.90010893],\n",
      "      dtype=float32)}\n",
      "{'predictions': array([-1.3679565 , -2.9430423 ,  0.2573338 , -1.9942391 ,  0.09927357,\n",
      "        1.301316  , -0.09832614,  1.7075558 ,  2.3313932 ,  1.9503391 ],\n",
      "      dtype=float32)}\n",
      "{'predictions': array([ 3.135888  ,  1.2869455 ,  1.1877396 ,  2.224613  ,  1.4894917 ,\n",
      "       -2.5696735 ,  1.8032849 , -3.6393685 , -0.92791307, -2.5917683 ],\n",
      "      dtype=float32)}\n"
     ]
    }
   ],
   "source": [
    "results.show()"
   ]
  },
  {
   "cell_type": "code",
   "execution_count": 81,
   "id": "4ef99a7d",
   "metadata": {},
   "outputs": [
    {
     "data": {
      "text/plain": [
       "ray.data.dataset.Dataset"
      ]
     },
     "execution_count": 81,
     "metadata": {},
     "output_type": "execute_result"
    }
   ],
   "source": [
    "type(results)"
   ]
  },
  {
   "cell_type": "code",
   "execution_count": null,
   "id": "b9a9e58e",
   "metadata": {},
   "outputs": [],
   "source": []
  }
 ],
 "metadata": {
  "kernelspec": {
   "display_name": "Python 3 (ipykernel)",
   "language": "python",
   "name": "python3"
  },
  "language_info": {
   "codemirror_mode": {
    "name": "ipython",
    "version": 3
   },
   "file_extension": ".py",
   "mimetype": "text/x-python",
   "name": "python",
   "nbconvert_exporter": "python",
   "pygments_lexer": "ipython3",
   "version": "3.9.12"
  }
 },
 "nbformat": 4,
 "nbformat_minor": 5
}
